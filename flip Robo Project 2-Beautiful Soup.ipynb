{
 "cells": [
  {
   "cell_type": "code",
   "execution_count": 2368,
   "metadata": {},
   "outputs": [],
   "source": [
    "from bs4 import BeautifulSoup\n",
    "import requests\n",
    "import pandas as pd"
   ]
  },
  {
   "cell_type": "code",
   "execution_count": 2369,
   "metadata": {},
   "outputs": [
    {
     "data": {
      "text/plain": [
       "<Response [200]>"
      ]
     },
     "execution_count": 2369,
     "metadata": {},
     "output_type": "execute_result"
    }
   ],
   "source": [
    "url=requests.get(\"https://en.wikipedia.org/wiki/Main_Page\")\n",
    "url"
   ]
  },
  {
   "cell_type": "code",
   "execution_count": 2370,
   "metadata": {},
   "outputs": [],
   "source": [
    "soup=BeautifulSoup(url.content)\n"
   ]
  },
  {
   "cell_type": "code",
   "execution_count": 2371,
   "metadata": {},
   "outputs": [
    {
     "data": {
      "text/plain": [
       "[<span class=\"mw-headline\" id=\"From_today's_featured_article\">From today's featured article</span>,\n",
       " <span class=\"mw-headline\" id=\"Did_you_know_...\">Did you know ...</span>,\n",
       " <span class=\"mw-headline\" id=\"In_the_news\">In the news</span>,\n",
       " <span class=\"mw-headline\" id=\"On_this_day\">On this day</span>,\n",
       " <span class=\"mw-headline\" id=\"Today's_featured_picture\">Today's featured picture</span>,\n",
       " <span class=\"mw-headline\" id=\"Other_areas_of_Wikipedia\">Other areas of Wikipedia</span>,\n",
       " <span class=\"mw-headline\" id=\"Wikipedia's_sister_projects\">Wikipedia's sister projects</span>,\n",
       " <span class=\"mw-headline\" id=\"Wikipedia_languages\">Wikipedia languages</span>]"
      ]
     },
     "execution_count": 2371,
     "metadata": {},
     "output_type": "execute_result"
    }
   ],
   "source": [
    "\n",
    "head_=soup.find_all('span', class_=\"mw-headline\")\n",
    "head_"
   ]
  },
  {
   "cell_type": "code",
   "execution_count": 2372,
   "metadata": {},
   "outputs": [
    {
     "data": {
      "text/plain": [
       "[\"From today's featured article\",\n",
       " 'Did you know\\xa0...',\n",
       " 'In the news',\n",
       " 'On this day',\n",
       " \"Today's featured picture\",\n",
       " 'Other areas of Wikipedia',\n",
       " \"Wikipedia's sister projects\",\n",
       " 'Wikipedia languages']"
      ]
     },
     "execution_count": 2372,
     "metadata": {},
     "output_type": "execute_result"
    }
   ],
   "source": [
    "head = []\n",
    "for i in head_:\n",
    "    head.append(i.get_text())\n",
    "head"
   ]
  },
  {
   "cell_type": "code",
   "execution_count": 2373,
   "metadata": {},
   "outputs": [],
   "source": [
    "bs= BeautifulSoup()"
   ]
  },
  {
   "cell_type": "code",
   "execution_count": 2374,
   "metadata": {},
   "outputs": [
    {
     "data": {
      "text/plain": [
       "<Response [200]>"
      ]
     },
     "execution_count": 2374,
     "metadata": {},
     "output_type": "execute_result"
    }
   ],
   "source": [
    "url=requests.get(\"https://www.imdb.com/chart/top/\")\n",
    "url"
   ]
  },
  {
   "cell_type": "code",
   "execution_count": 2375,
   "metadata": {},
   "outputs": [],
   "source": [
    "soup=BeautifulSoup(url.content)"
   ]
  },
  {
   "cell_type": "code",
   "execution_count": 2376,
   "metadata": {},
   "outputs": [],
   "source": [
    "movie_data=soup.find_all(\"td\",class_=\"titleColumn\")\n",
    "\n"
   ]
  },
  {
   "cell_type": "code",
   "execution_count": 2377,
   "metadata": {},
   "outputs": [
    {
     "data": {
      "text/plain": [
       "['The Shawshank Redemption',\n",
       " 'The Godfather',\n",
       " 'The Godfather: Part II',\n",
       " 'The Dark Knight',\n",
       " '12 Angry Men',\n",
       " \"Schindler's List\",\n",
       " 'The Lord of the Rings: The Return of the King',\n",
       " 'Pulp Fiction',\n",
       " 'Il buono, il brutto, il cattivo',\n",
       " 'The Lord of the Rings: The Fellowship of the Ring']"
      ]
     },
     "execution_count": 2377,
     "metadata": {},
     "output_type": "execute_result"
    }
   ],
   "source": [
    "movie_name=[]\n",
    "for i in movie_data:\n",
    "    for j in i.find_all('a'):\n",
    "        movie_name.append(j.text.replace('\\n',' '))\n",
    "movie_name[:10]"
   ]
  },
  {
   "cell_type": "code",
   "execution_count": 2576,
   "metadata": {},
   "outputs": [
    {
     "data": {
      "text/plain": [
       "250"
      ]
     },
     "execution_count": 2576,
     "metadata": {},
     "output_type": "execute_result"
    }
   ],
   "source": [
    "len(movie_name)"
   ]
  },
  {
   "cell_type": "code",
   "execution_count": 2379,
   "metadata": {},
   "outputs": [],
   "source": [
    "year_data=soup.find_all('span', class_=\"secondaryInfo\")\n"
   ]
  },
  {
   "cell_type": "code",
   "execution_count": 2380,
   "metadata": {},
   "outputs": [
    {
     "data": {
      "text/plain": [
       "[' 1994 ',\n",
       " ' 1972 ',\n",
       " ' 1974 ',\n",
       " ' 2008 ',\n",
       " ' 1957 ',\n",
       " ' 1993 ',\n",
       " ' 2003 ',\n",
       " ' 1994 ',\n",
       " ' 1966 ',\n",
       " ' 2001 ']"
      ]
     },
     "execution_count": 2380,
     "metadata": {},
     "output_type": "execute_result"
    }
   ],
   "source": [
    "movie_year=[]\n",
    "for i in year_data:\n",
    "        movie_year.append(i.text.replace(\"(\",\" \").replace(\")\",\" \"))\n",
    "movie_year[:10]"
   ]
  },
  {
   "cell_type": "code",
   "execution_count": 2381,
   "metadata": {},
   "outputs": [
    {
     "data": {
      "text/plain": [
       "250"
      ]
     },
     "execution_count": 2381,
     "metadata": {},
     "output_type": "execute_result"
    }
   ],
   "source": [
    "len(movie_year)"
   ]
  },
  {
   "cell_type": "code",
   "execution_count": 2382,
   "metadata": {},
   "outputs": [],
   "source": [
    "Rating_data=soup.find_all('td' ,class_=\"ratingColumn imdbRating\")\n"
   ]
  },
  {
   "cell_type": "code",
   "execution_count": 2383,
   "metadata": {},
   "outputs": [
    {
     "data": {
      "text/plain": [
       "[' 9.2 ',\n",
       " ' 9.1 ',\n",
       " ' 9.0 ',\n",
       " ' 9.0 ',\n",
       " ' 8.9 ',\n",
       " ' 8.9 ',\n",
       " ' 8.9 ',\n",
       " ' 8.8 ',\n",
       " ' 8.8 ',\n",
       " ' 8.8 ']"
      ]
     },
     "execution_count": 2383,
     "metadata": {},
     "output_type": "execute_result"
    }
   ],
   "source": [
    "movie_rating=[]\n",
    "for i in Rating_data:\n",
    "        movie_rating.append(i.text.replace('\\n',' '))\n",
    "movie_rating[:10]"
   ]
  },
  {
   "cell_type": "code",
   "execution_count": 2384,
   "metadata": {},
   "outputs": [],
   "source": [
    "Movie_df=pd.DataFrame({\"Name of movie\":movie_name[0:100],\"Year of release\":movie_year[0:100],\"Rating for the movie\":movie_rating[0:100]})"
   ]
  },
  {
   "cell_type": "code",
   "execution_count": 2385,
   "metadata": {},
   "outputs": [
    {
     "data": {
      "text/html": [
       "<div>\n",
       "<style scoped>\n",
       "    .dataframe tbody tr th:only-of-type {\n",
       "        vertical-align: middle;\n",
       "    }\n",
       "\n",
       "    .dataframe tbody tr th {\n",
       "        vertical-align: top;\n",
       "    }\n",
       "\n",
       "    .dataframe thead th {\n",
       "        text-align: right;\n",
       "    }\n",
       "</style>\n",
       "<table border=\"1\" class=\"dataframe\">\n",
       "  <thead>\n",
       "    <tr style=\"text-align: right;\">\n",
       "      <th></th>\n",
       "      <th>Name of movie</th>\n",
       "      <th>Year of release</th>\n",
       "      <th>Rating for the movie</th>\n",
       "    </tr>\n",
       "  </thead>\n",
       "  <tbody>\n",
       "    <tr>\n",
       "      <th>0</th>\n",
       "      <td>The Shawshank Redemption</td>\n",
       "      <td>1994</td>\n",
       "      <td>9.2</td>\n",
       "    </tr>\n",
       "    <tr>\n",
       "      <th>1</th>\n",
       "      <td>The Godfather</td>\n",
       "      <td>1972</td>\n",
       "      <td>9.1</td>\n",
       "    </tr>\n",
       "    <tr>\n",
       "      <th>2</th>\n",
       "      <td>The Godfather: Part II</td>\n",
       "      <td>1974</td>\n",
       "      <td>9.0</td>\n",
       "    </tr>\n",
       "    <tr>\n",
       "      <th>3</th>\n",
       "      <td>The Dark Knight</td>\n",
       "      <td>2008</td>\n",
       "      <td>9.0</td>\n",
       "    </tr>\n",
       "    <tr>\n",
       "      <th>4</th>\n",
       "      <td>12 Angry Men</td>\n",
       "      <td>1957</td>\n",
       "      <td>8.9</td>\n",
       "    </tr>\n",
       "    <tr>\n",
       "      <th>...</th>\n",
       "      <td>...</td>\n",
       "      <td>...</td>\n",
       "      <td>...</td>\n",
       "    </tr>\n",
       "    <tr>\n",
       "      <th>95</th>\n",
       "      <td>Jagten</td>\n",
       "      <td>2012</td>\n",
       "      <td>8.3</td>\n",
       "    </tr>\n",
       "    <tr>\n",
       "      <th>96</th>\n",
       "      <td>Singin' in the Rain</td>\n",
       "      <td>1952</td>\n",
       "      <td>8.3</td>\n",
       "    </tr>\n",
       "    <tr>\n",
       "      <th>97</th>\n",
       "      <td>North by Northwest</td>\n",
       "      <td>1959</td>\n",
       "      <td>8.3</td>\n",
       "    </tr>\n",
       "    <tr>\n",
       "      <th>98</th>\n",
       "      <td>Idi i smotri</td>\n",
       "      <td>1985</td>\n",
       "      <td>8.3</td>\n",
       "    </tr>\n",
       "    <tr>\n",
       "      <th>99</th>\n",
       "      <td>Eternal Sunshine of the Spotless Mind</td>\n",
       "      <td>2004</td>\n",
       "      <td>8.3</td>\n",
       "    </tr>\n",
       "  </tbody>\n",
       "</table>\n",
       "<p>100 rows × 3 columns</p>\n",
       "</div>"
      ],
      "text/plain": [
       "                            Name of movie Year of release Rating for the movie\n",
       "0                The Shawshank Redemption           1994                  9.2 \n",
       "1                           The Godfather           1972                  9.1 \n",
       "2                  The Godfather: Part II           1974                  9.0 \n",
       "3                         The Dark Knight           2008                  9.0 \n",
       "4                            12 Angry Men           1957                  8.9 \n",
       "..                                    ...             ...                  ...\n",
       "95                                 Jagten           2012                  8.3 \n",
       "96                    Singin' in the Rain           1952                  8.3 \n",
       "97                     North by Northwest           1959                  8.3 \n",
       "98                           Idi i smotri           1985                  8.3 \n",
       "99  Eternal Sunshine of the Spotless Mind           2004                  8.3 \n",
       "\n",
       "[100 rows x 3 columns]"
      ]
     },
     "execution_count": 2385,
     "metadata": {},
     "output_type": "execute_result"
    }
   ],
   "source": [
    "Movie_df"
   ]
  },
  {
   "cell_type": "markdown",
   "metadata": {},
   "source": [
    "# TOP 100 INDIAN MOVIE"
   ]
  },
  {
   "cell_type": "code",
   "execution_count": 2386,
   "metadata": {},
   "outputs": [
    {
     "data": {
      "text/plain": [
       "<Response [200]>"
      ]
     },
     "execution_count": 2386,
     "metadata": {},
     "output_type": "execute_result"
    }
   ],
   "source": [
    "url=requests.get(\"https://www.imdb.com/india/top-rated-indian-movies/\")\n",
    "url"
   ]
  },
  {
   "cell_type": "code",
   "execution_count": 2387,
   "metadata": {},
   "outputs": [],
   "source": [
    "soup=BeautifulSoup(url.content)\n"
   ]
  },
  {
   "cell_type": "code",
   "execution_count": 2577,
   "metadata": {},
   "outputs": [],
   "source": [
    "movie_data=soup.find_all(\"td\",class_=\"titleColumn\")\n",
    "\n"
   ]
  },
  {
   "cell_type": "code",
   "execution_count": 2389,
   "metadata": {},
   "outputs": [
    {
     "data": {
      "text/plain": [
       "['Pather Panchali',\n",
       " 'Nayakan',\n",
       " 'Pariyerum Perumal',\n",
       " 'Anbe Sivam',\n",
       " 'Golmaal',\n",
       " 'Apur Sansar',\n",
       " 'C/o Kancharapalem',\n",
       " 'Kireedam',\n",
       " 'Manichitrathazhu',\n",
       " 'Natsamrat']"
      ]
     },
     "execution_count": 2389,
     "metadata": {},
     "output_type": "execute_result"
    }
   ],
   "source": [
    "movie_name=[]\n",
    "for i in movie_data:\n",
    "    for j in i.find_all('a'):\n",
    "        movie_name.append(j.text.replace('\\n',' '))\n",
    "movie_name[:10]"
   ]
  },
  {
   "cell_type": "code",
   "execution_count": 2390,
   "metadata": {},
   "outputs": [],
   "source": [
    "year_data=soup.find_all('span', class_=\"secondaryInfo\")"
   ]
  },
  {
   "cell_type": "code",
   "execution_count": 2391,
   "metadata": {},
   "outputs": [
    {
     "data": {
      "text/plain": [
       "[' 1955 ',\n",
       " ' 1987 ',\n",
       " ' 2018 ',\n",
       " ' 2003 ',\n",
       " ' 1979 ',\n",
       " ' 1959 ',\n",
       " ' 2018 ',\n",
       " ' 1989 ',\n",
       " ' 1993 ',\n",
       " ' 2016 ']"
      ]
     },
     "execution_count": 2391,
     "metadata": {},
     "output_type": "execute_result"
    }
   ],
   "source": [
    "movie_year=[]\n",
    "for i in year_data:\n",
    "        movie_year.append(i.text.replace(\"(\",\" \").replace(\")\",\" \"))\n",
    "movie_year[:10]"
   ]
  },
  {
   "cell_type": "code",
   "execution_count": 2392,
   "metadata": {},
   "outputs": [],
   "source": [
    "Rating_data=soup.find_all('td' ,class_=\"ratingColumn imdbRating\")\n"
   ]
  },
  {
   "cell_type": "code",
   "execution_count": 2393,
   "metadata": {},
   "outputs": [
    {
     "data": {
      "text/plain": [
       "[' 8.5 ',\n",
       " ' 8.5 ',\n",
       " ' 8.5 ',\n",
       " ' 8.5 ',\n",
       " ' 8.5 ',\n",
       " ' 8.5 ',\n",
       " ' 8.5 ',\n",
       " ' 8.4 ',\n",
       " ' 8.4 ',\n",
       " ' 8.4 ']"
      ]
     },
     "execution_count": 2393,
     "metadata": {},
     "output_type": "execute_result"
    }
   ],
   "source": [
    "movie_rating=[]\n",
    "for i in Rating_data:\n",
    "        movie_rating.append(i.text.replace('\\n',' '))\n",
    "movie_rating[:10]"
   ]
  },
  {
   "cell_type": "code",
   "execution_count": 2394,
   "metadata": {},
   "outputs": [
    {
     "data": {
      "text/html": [
       "<div>\n",
       "<style scoped>\n",
       "    .dataframe tbody tr th:only-of-type {\n",
       "        vertical-align: middle;\n",
       "    }\n",
       "\n",
       "    .dataframe tbody tr th {\n",
       "        vertical-align: top;\n",
       "    }\n",
       "\n",
       "    .dataframe thead th {\n",
       "        text-align: right;\n",
       "    }\n",
       "</style>\n",
       "<table border=\"1\" class=\"dataframe\">\n",
       "  <thead>\n",
       "    <tr style=\"text-align: right;\">\n",
       "      <th></th>\n",
       "      <th>Name of movie</th>\n",
       "      <th>Year of release</th>\n",
       "      <th>Rating for the movie</th>\n",
       "    </tr>\n",
       "  </thead>\n",
       "  <tbody>\n",
       "    <tr>\n",
       "      <th>0</th>\n",
       "      <td>Pather Panchali</td>\n",
       "      <td>1955</td>\n",
       "      <td>8.5</td>\n",
       "    </tr>\n",
       "    <tr>\n",
       "      <th>1</th>\n",
       "      <td>Nayakan</td>\n",
       "      <td>1987</td>\n",
       "      <td>8.5</td>\n",
       "    </tr>\n",
       "    <tr>\n",
       "      <th>2</th>\n",
       "      <td>Pariyerum Perumal</td>\n",
       "      <td>2018</td>\n",
       "      <td>8.5</td>\n",
       "    </tr>\n",
       "    <tr>\n",
       "      <th>3</th>\n",
       "      <td>Anbe Sivam</td>\n",
       "      <td>2003</td>\n",
       "      <td>8.5</td>\n",
       "    </tr>\n",
       "    <tr>\n",
       "      <th>4</th>\n",
       "      <td>Golmaal</td>\n",
       "      <td>1979</td>\n",
       "      <td>8.5</td>\n",
       "    </tr>\n",
       "    <tr>\n",
       "      <th>...</th>\n",
       "      <td>...</td>\n",
       "      <td>...</td>\n",
       "      <td>...</td>\n",
       "    </tr>\n",
       "    <tr>\n",
       "      <th>95</th>\n",
       "      <td>Andaz Apna Apna</td>\n",
       "      <td>1994</td>\n",
       "      <td>8.1</td>\n",
       "    </tr>\n",
       "    <tr>\n",
       "      <th>96</th>\n",
       "      <td>Uri: The Surgical Strike</td>\n",
       "      <td>2018</td>\n",
       "      <td>8.1</td>\n",
       "    </tr>\n",
       "    <tr>\n",
       "      <th>97</th>\n",
       "      <td>Virumandi</td>\n",
       "      <td>2004</td>\n",
       "      <td>8.1</td>\n",
       "    </tr>\n",
       "    <tr>\n",
       "      <th>98</th>\n",
       "      <td>PK</td>\n",
       "      <td>2014</td>\n",
       "      <td>8.1</td>\n",
       "    </tr>\n",
       "    <tr>\n",
       "      <th>99</th>\n",
       "      <td>Lucia</td>\n",
       "      <td>2013</td>\n",
       "      <td>8.1</td>\n",
       "    </tr>\n",
       "  </tbody>\n",
       "</table>\n",
       "<p>100 rows × 3 columns</p>\n",
       "</div>"
      ],
      "text/plain": [
       "               Name of movie Year of release Rating for the movie\n",
       "0            Pather Panchali           1955                  8.5 \n",
       "1                    Nayakan           1987                  8.5 \n",
       "2          Pariyerum Perumal           2018                  8.5 \n",
       "3                 Anbe Sivam           2003                  8.5 \n",
       "4                    Golmaal           1979                  8.5 \n",
       "..                       ...             ...                  ...\n",
       "95           Andaz Apna Apna           1994                  8.1 \n",
       "96  Uri: The Surgical Strike           2018                  8.1 \n",
       "97                 Virumandi           2004                  8.1 \n",
       "98                        PK           2014                  8.1 \n",
       "99                     Lucia           2013                  8.1 \n",
       "\n",
       "[100 rows x 3 columns]"
      ]
     },
     "execution_count": 2394,
     "metadata": {},
     "output_type": "execute_result"
    }
   ],
   "source": [
    "Indian_Movie_df=pd.DataFrame({\"Name of movie\":movie_name[0:100],\"Year of release\":movie_year[0:100],\"Rating for the movie\":movie_rating[0:100]})\n",
    "Indian_Movie_df"
   ]
  },
  {
   "cell_type": "markdown",
   "metadata": {},
   "source": [
    " Write a python program to scrap book name, author name, genre and book review of any 5 books from ‘www.bookpage.com’."
   ]
  },
  {
   "cell_type": "code",
   "execution_count": 2395,
   "metadata": {},
   "outputs": [
    {
     "data": {
      "text/plain": [
       "<Response [200]>"
      ]
     },
     "execution_count": 2395,
     "metadata": {},
     "output_type": "execute_result"
    }
   ],
   "source": [
    "url=requests.get(\"https://bookpage.com/reviews\")\n",
    "url"
   ]
  },
  {
   "cell_type": "code",
   "execution_count": 2396,
   "metadata": {},
   "outputs": [],
   "source": [
    "soup=BeautifulSoup(url.content)\n"
   ]
  },
  {
   "cell_type": "code",
   "execution_count": 2397,
   "metadata": {},
   "outputs": [],
   "source": [
    "book_name=soup.find_all('h4',class_=\"italic\")\n"
   ]
  },
  {
   "cell_type": "code",
   "execution_count": 2398,
   "metadata": {},
   "outputs": [
    {
     "data": {
      "text/plain": [
       "['   The Ugly Cry ',\n",
       " '   Indestructible Object ',\n",
       " '   How the Word Is Passed ',\n",
       " '   Seven Days in June ',\n",
       " '   The Other Black Girl ']"
      ]
     },
     "execution_count": 2398,
     "metadata": {},
     "output_type": "execute_result"
    }
   ],
   "source": [
    "name_of_book=[]\n",
    "for i in book_name:\n",
    "    name_of_book.append(i.text.replace(\"\\n\",\" \").replace(\" ★\",\" \"))\n",
    "name_of_book[:5]"
   ]
  },
  {
   "cell_type": "code",
   "execution_count": 2399,
   "metadata": {},
   "outputs": [
    {
     "data": {
      "text/plain": [
       "[<p class=\"sans bold\">\n",
       " Danielle Henderson\n",
       " </p>,\n",
       " <p class=\"sans bold\">\n",
       " Mary McCoy\n",
       " </p>,\n",
       " <p class=\"sans bold\">\n",
       " Clint Smith\n",
       " </p>,\n",
       " <p class=\"sans bold\">\n",
       " Tia Williams\n",
       " </p>,\n",
       " <p class=\"sans bold\">\n",
       " Zakiya Dalila Harris\n",
       " </p>,\n",
       " <p class=\"sans bold\">\n",
       " Nana Nkweti\n",
       " </p>,\n",
       " <p class=\"sans bold\">\n",
       " Taylor Jenkins Reid\n",
       " </p>,\n",
       " <p class=\"sans bold\">\n",
       " Jules Machias\n",
       " </p>,\n",
       " <p class=\"sans bold\">\n",
       " Marianne Cronin\n",
       " </p>,\n",
       " <p class=\"sans bold\">\n",
       " Rachel Lynn Solomon\n",
       " </p>]"
      ]
     },
     "execution_count": 2399,
     "metadata": {},
     "output_type": "execute_result"
    }
   ],
   "source": [
    "book_author=soup.find_all('p', class_=\"sans bold\")\n",
    "book_author"
   ]
  },
  {
   "cell_type": "code",
   "execution_count": 2400,
   "metadata": {},
   "outputs": [
    {
     "data": {
      "text/plain": [
       "[' Danielle Henderson ',\n",
       " ' Mary McCoy ',\n",
       " ' Clint Smith ',\n",
       " ' Tia Williams ',\n",
       " ' Zakiya Dalila Harris ']"
      ]
     },
     "execution_count": 2400,
     "metadata": {},
     "output_type": "execute_result"
    }
   ],
   "source": [
    "name_of_author=[]\n",
    "for i in book_author:\n",
    "    name_of_author.append(i.text.replace(\"\\n\",\" \"))\n",
    "name_of_author[:5]"
   ]
  },
  {
   "cell_type": "code",
   "execution_count": 2401,
   "metadata": {},
   "outputs": [],
   "source": [
    "book_genre=soup.find_all('p',class_=\"genre-links hidden-phone\")\n"
   ]
  },
  {
   "cell_type": "code",
   "execution_count": 2402,
   "metadata": {},
   "outputs": [
    {
     "data": {
      "text/plain": [
       "[' Nonfiction  /  Memoir ',\n",
       " ' YA  /  YA Fiction ',\n",
       " ' Nonfiction  /  American History  /  African American History ',\n",
       " ' Romance  /  Contemporary Romance ',\n",
       " ' Fiction  /  Literary Fiction ']"
      ]
     },
     "execution_count": 2402,
     "metadata": {},
     "output_type": "execute_result"
    }
   ],
   "source": [
    "genre_of_book=[]\n",
    "for i in book_genre:\n",
    "    genre_of_book.append(i.text.replace(\"\\n\",\" \"))\n",
    "genre_of_book[:5]"
   ]
  },
  {
   "cell_type": "code",
   "execution_count": 2403,
   "metadata": {},
   "outputs": [
    {
     "data": {
      "text/plain": [
       "[<p class=\"excerpt\">\n",
       " Danielle Henderson brings her family to life using humor as quick and sharp as the violence she survived as a child.\n",
       " </p>,\n",
       " <p class=\"excerpt\">\n",
       " </p>,\n",
       " <p class=\"excerpt\">\n",
       " Clint Smith's gifts as both a poet and a scholar make <strong>How the Word Is Passed </strong>a richly provocative read.\n",
       " </p>,\n",
       " <p class=\"excerpt\">\n",
       " Readers will feel as attached to Tia Williams’ characters as Eva and Shane are to each other.\n",
       " </p>,\n",
       " <p class=\"excerpt\">\n",
       " Brilliantly positioned at the intersection of satire and social horror, Zakiya Dalila Harris’ debut novel is a genre-bending creative triumph.\n",
       " </p>,\n",
       " <p class=\"excerpt\">\n",
       " With the ease of a master, Nana Nkweti shifts between points of view, between American and African slang, and between the straightforward and the avant-garde.\n",
       " </p>,\n",
       " <p class=\"excerpt\">\n",
       " <strong>Malibu Rising</strong> is packed with plenty of scintillating scandal, but Taylor Jenkins Reid’s irresistible characters are the novel’s greatest success.\n",
       " </p>,\n",
       " <p class=\"excerpt\">\n",
       " </p>,\n",
       " <p class=\"excerpt\">\n",
       " Even in the face of death’s inevitability, friendship can be found, forgiveness can flourish and fun can ease fear.\n",
       " </p>,\n",
       " <p class=\"excerpt\">\n",
       " </p>]"
      ]
     },
     "execution_count": 2403,
     "metadata": {},
     "output_type": "execute_result"
    }
   ],
   "source": [
    "book_review=soup.find_all('p', class_=\"excerpt\")\n",
    "book_review"
   ]
  },
  {
   "cell_type": "code",
   "execution_count": 2404,
   "metadata": {},
   "outputs": [
    {
     "data": {
      "text/plain": [
       "[' Danielle Henderson brings her family to life using humor as quick and sharp as the violence she survived as a child. ',\n",
       " ' ',\n",
       " \" Clint Smith's gifts as both a poet and a scholar make How the Word Is Passed a richly provocative read. \",\n",
       " ' Readers will feel as attached to Tia Williams’ characters as Eva and Shane are to each other. ',\n",
       " ' Brilliantly positioned at the intersection of satire and social horror, Zakiya Dalila Harris’ debut novel is a genre-bending creative triumph. ']"
      ]
     },
     "execution_count": 2404,
     "metadata": {},
     "output_type": "execute_result"
    }
   ],
   "source": [
    "review_of_book=[]\n",
    "for i in book_review:\n",
    "    review_of_book.append(i.text.replace(\"\\n\",\" \"))\n",
    "review_of_book[:5]"
   ]
  },
  {
   "cell_type": "code",
   "execution_count": 2405,
   "metadata": {},
   "outputs": [],
   "source": [
    "book_scrap=pd.DataFrame({\"Book Name\":name_of_book[5:10],\"Author Name\":name_of_author[5:10],\"Book Genre\":genre_of_book[5:10],\"Book Review\":review_of_book[5:10]})"
   ]
  },
  {
   "cell_type": "code",
   "execution_count": 2406,
   "metadata": {},
   "outputs": [
    {
     "data": {
      "text/html": [
       "<div>\n",
       "<style scoped>\n",
       "    .dataframe tbody tr th:only-of-type {\n",
       "        vertical-align: middle;\n",
       "    }\n",
       "\n",
       "    .dataframe tbody tr th {\n",
       "        vertical-align: top;\n",
       "    }\n",
       "\n",
       "    .dataframe thead th {\n",
       "        text-align: right;\n",
       "    }\n",
       "</style>\n",
       "<table border=\"1\" class=\"dataframe\">\n",
       "  <thead>\n",
       "    <tr style=\"text-align: right;\">\n",
       "      <th></th>\n",
       "      <th>Book Name</th>\n",
       "      <th>Author Name</th>\n",
       "      <th>Book Genre</th>\n",
       "      <th>Book Review</th>\n",
       "    </tr>\n",
       "  </thead>\n",
       "  <tbody>\n",
       "    <tr>\n",
       "      <th>0</th>\n",
       "      <td>Walking on Cowrie Shells</td>\n",
       "      <td>Nana Nkweti</td>\n",
       "      <td>Fiction  /  Short Stories</td>\n",
       "      <td>With the ease of a master, Nana Nkweti shifts...</td>\n",
       "    </tr>\n",
       "    <tr>\n",
       "      <th>1</th>\n",
       "      <td>Malibu Rising</td>\n",
       "      <td>Taylor Jenkins Reid</td>\n",
       "      <td>Fiction  /  Popular Fiction</td>\n",
       "      <td>Malibu Rising is packed with plenty of scinti...</td>\n",
       "    </tr>\n",
       "    <tr>\n",
       "      <th>2</th>\n",
       "      <td>Both Can Be True</td>\n",
       "      <td>Jules Machias</td>\n",
       "      <td>Children's  /  Middle Grade</td>\n",
       "      <td></td>\n",
       "    </tr>\n",
       "    <tr>\n",
       "      <th>3</th>\n",
       "      <td>The One Hundred Years of Lenni and Margot</td>\n",
       "      <td>Marianne Cronin</td>\n",
       "      <td>Fiction  /  Popular Fiction</td>\n",
       "      <td>Even in the face of death’s inevitability, fr...</td>\n",
       "    </tr>\n",
       "    <tr>\n",
       "      <th>4</th>\n",
       "      <td>We Can’t Keep Meeting Like This</td>\n",
       "      <td>Rachel Lynn Solomon</td>\n",
       "      <td>YA  /  YA Fiction</td>\n",
       "      <td></td>\n",
       "    </tr>\n",
       "  </tbody>\n",
       "</table>\n",
       "</div>"
      ],
      "text/plain": [
       "                                       Book Name            Author Name  \\\n",
       "0                      Walking on Cowrie Shells            Nana Nkweti    \n",
       "1                                 Malibu Rising    Taylor Jenkins Reid    \n",
       "2                              Both Can Be True          Jules Machias    \n",
       "3     The One Hundred Years of Lenni and Margot        Marianne Cronin    \n",
       "4               We Can’t Keep Meeting Like This    Rachel Lynn Solomon    \n",
       "\n",
       "                      Book Genre  \\\n",
       "0     Fiction  /  Short Stories    \n",
       "1   Fiction  /  Popular Fiction    \n",
       "2   Children's  /  Middle Grade    \n",
       "3   Fiction  /  Popular Fiction    \n",
       "4             YA  /  YA Fiction    \n",
       "\n",
       "                                         Book Review  \n",
       "0   With the ease of a master, Nana Nkweti shifts...  \n",
       "1   Malibu Rising is packed with plenty of scinti...  \n",
       "2                                                     \n",
       "3   Even in the face of death’s inevitability, fr...  \n",
       "4                                                     "
      ]
     },
     "execution_count": 2406,
     "metadata": {},
     "output_type": "execute_result"
    }
   ],
   "source": [
    "book_scrap"
   ]
  },
  {
   "cell_type": "markdown",
   "metadata": {},
   "source": [
    "5. Write a python program to scrape cricket rankings from ‘www.icc-cricket.com’. You have to scrape:"
   ]
  },
  {
   "cell_type": "code",
   "execution_count": 2407,
   "metadata": {},
   "outputs": [
    {
     "data": {
      "text/plain": [
       "<Response [200]>"
      ]
     },
     "execution_count": 2407,
     "metadata": {},
     "output_type": "execute_result"
    }
   ],
   "source": [
    "url=requests.get(\"https://www.icc-cricket.com/rankings/mens/team-rankings/odi\")\n",
    "url"
   ]
  },
  {
   "cell_type": "code",
   "execution_count": 2408,
   "metadata": {},
   "outputs": [],
   "source": [
    "soup=BeautifulSoup(url.content)\n"
   ]
  },
  {
   "cell_type": "code",
   "execution_count": 2409,
   "metadata": {},
   "outputs": [],
   "source": [
    "cricket_top_10=soup.find_all('tr', class_=\"table-body\")\n"
   ]
  },
  {
   "cell_type": "code",
   "execution_count": 2410,
   "metadata": {},
   "outputs": [],
   "source": [
    "cricket_team=[]\n",
    "cricket_match=[]\n",
    "cricket_point=[]\n",
    "cricket_rating=[]"
   ]
  },
  {
   "cell_type": "code",
   "execution_count": 2411,
   "metadata": {},
   "outputs": [],
   "source": [
    "team=soup.find_all('span' ,class_=\"u-hide-phablet\")\n",
    "               \n",
    "    "
   ]
  },
  {
   "cell_type": "code",
   "execution_count": 2412,
   "metadata": {},
   "outputs": [
    {
     "data": {
      "text/plain": [
       "['Australia',\n",
       " 'India',\n",
       " 'England',\n",
       " 'South Africa',\n",
       " 'Pakistan',\n",
       " 'Bangladesh',\n",
       " 'West Indies',\n",
       " 'Sri Lanka',\n",
       " 'Afghanistan']"
      ]
     },
     "execution_count": 2412,
     "metadata": {},
     "output_type": "execute_result"
    }
   ],
   "source": [
    "for i in team:\n",
    "    cricket_team.append(i.text.replace(\"\\n\",\" \"))\n",
    "cricket_team[1:10]\n"
   ]
  },
  {
   "cell_type": "code",
   "execution_count": 2413,
   "metadata": {},
   "outputs": [],
   "source": [
    "match=soup.find_all('td' ,class_=\"table-body__cell u-center-text\")\n",
    "\n"
   ]
  },
  {
   "cell_type": "code",
   "execution_count": 2414,
   "metadata": {},
   "outputs": [
    {
     "data": {
      "text/plain": [
       "['25', '29', '27', '20', '24', '27', '27', '24', '17', '20']"
      ]
     },
     "execution_count": 2414,
     "metadata": {},
     "output_type": "execute_result"
    }
   ],
   "source": [
    "for i in  range(0,len(match),2):\n",
    "    cricket_match.append(match[i].text)\n",
    "cricket_match[:10]"
   ]
  },
  {
   "cell_type": "code",
   "execution_count": null,
   "metadata": {},
   "outputs": [],
   "source": []
  },
  {
   "cell_type": "code",
   "execution_count": 2415,
   "metadata": {},
   "outputs": [
    {
     "data": {
      "text/plain": [
       "['2,945',\n",
       " '3,344',\n",
       " '3,100',\n",
       " '2,137',\n",
       " '2,323',\n",
       " '2,438',\n",
       " '2,222',\n",
       " '1,876',\n",
       " '1,054',\n",
       " '907']"
      ]
     },
     "execution_count": 2415,
     "metadata": {},
     "output_type": "execute_result"
    }
   ],
   "source": [
    "for i in  range(1,len(match),2):\n",
    "    cricket_point.append(match[i].text)\n",
    "cricket_point[:10]"
   ]
  },
  {
   "cell_type": "code",
   "execution_count": 2416,
   "metadata": {},
   "outputs": [],
   "source": [
    "rating=soup.find_all(\"td\", class_=\"table-body__cell u-text-right rating\")\n"
   ]
  },
  {
   "cell_type": "code",
   "execution_count": 2417,
   "metadata": {},
   "outputs": [
    {
     "data": {
      "text/plain": [
       "['118', '115', '115', '107', '97', '90', '82', '78', '62', '45']"
      ]
     },
     "execution_count": 2417,
     "metadata": {},
     "output_type": "execute_result"
    }
   ],
   "source": [
    "for i in rating:\n",
    "    cricket_rating.append(i.text.replace(\"\\n\",\" \"))\n",
    "cricket_rating[:10]"
   ]
  },
  {
   "cell_type": "code",
   "execution_count": 2418,
   "metadata": {},
   "outputs": [
    {
     "data": {
      "text/plain": [
       "19"
      ]
     },
     "execution_count": 2418,
     "metadata": {},
     "output_type": "execute_result"
    }
   ],
   "source": [
    "len(cricket_rating)"
   ]
  },
  {
   "cell_type": "code",
   "execution_count": 2419,
   "metadata": {},
   "outputs": [
    {
     "data": {
      "text/plain": [
       "19"
      ]
     },
     "execution_count": 2419,
     "metadata": {},
     "output_type": "execute_result"
    }
   ],
   "source": [
    "len(cricket_point)"
   ]
  },
  {
   "cell_type": "code",
   "execution_count": 2420,
   "metadata": {},
   "outputs": [],
   "source": [
    "top_10=pd.DataFrame({\"Team\":cricket_team[1:10],\"Matches\":cricket_match[:9],\"Point\":cricket_point[:9],\"Rating\":cricket_rating[:9]})"
   ]
  },
  {
   "cell_type": "code",
   "execution_count": 2421,
   "metadata": {},
   "outputs": [
    {
     "data": {
      "text/html": [
       "<div>\n",
       "<style scoped>\n",
       "    .dataframe tbody tr th:only-of-type {\n",
       "        vertical-align: middle;\n",
       "    }\n",
       "\n",
       "    .dataframe tbody tr th {\n",
       "        vertical-align: top;\n",
       "    }\n",
       "\n",
       "    .dataframe thead th {\n",
       "        text-align: right;\n",
       "    }\n",
       "</style>\n",
       "<table border=\"1\" class=\"dataframe\">\n",
       "  <thead>\n",
       "    <tr style=\"text-align: right;\">\n",
       "      <th></th>\n",
       "      <th>Team</th>\n",
       "      <th>Matches</th>\n",
       "      <th>Point</th>\n",
       "      <th>Rating</th>\n",
       "    </tr>\n",
       "  </thead>\n",
       "  <tbody>\n",
       "    <tr>\n",
       "      <th>0</th>\n",
       "      <td>Australia</td>\n",
       "      <td>25</td>\n",
       "      <td>2,945</td>\n",
       "      <td>118</td>\n",
       "    </tr>\n",
       "    <tr>\n",
       "      <th>1</th>\n",
       "      <td>India</td>\n",
       "      <td>29</td>\n",
       "      <td>3,344</td>\n",
       "      <td>115</td>\n",
       "    </tr>\n",
       "    <tr>\n",
       "      <th>2</th>\n",
       "      <td>England</td>\n",
       "      <td>27</td>\n",
       "      <td>3,100</td>\n",
       "      <td>115</td>\n",
       "    </tr>\n",
       "    <tr>\n",
       "      <th>3</th>\n",
       "      <td>South Africa</td>\n",
       "      <td>20</td>\n",
       "      <td>2,137</td>\n",
       "      <td>107</td>\n",
       "    </tr>\n",
       "    <tr>\n",
       "      <th>4</th>\n",
       "      <td>Pakistan</td>\n",
       "      <td>24</td>\n",
       "      <td>2,323</td>\n",
       "      <td>97</td>\n",
       "    </tr>\n",
       "    <tr>\n",
       "      <th>5</th>\n",
       "      <td>Bangladesh</td>\n",
       "      <td>27</td>\n",
       "      <td>2,438</td>\n",
       "      <td>90</td>\n",
       "    </tr>\n",
       "    <tr>\n",
       "      <th>6</th>\n",
       "      <td>West Indies</td>\n",
       "      <td>27</td>\n",
       "      <td>2,222</td>\n",
       "      <td>82</td>\n",
       "    </tr>\n",
       "    <tr>\n",
       "      <th>7</th>\n",
       "      <td>Sri Lanka</td>\n",
       "      <td>24</td>\n",
       "      <td>1,876</td>\n",
       "      <td>78</td>\n",
       "    </tr>\n",
       "    <tr>\n",
       "      <th>8</th>\n",
       "      <td>Afghanistan</td>\n",
       "      <td>17</td>\n",
       "      <td>1,054</td>\n",
       "      <td>62</td>\n",
       "    </tr>\n",
       "  </tbody>\n",
       "</table>\n",
       "</div>"
      ],
      "text/plain": [
       "           Team Matches  Point Rating\n",
       "0     Australia      25  2,945    118\n",
       "1         India      29  3,344    115\n",
       "2       England      27  3,100    115\n",
       "3  South Africa      20  2,137    107\n",
       "4      Pakistan      24  2,323     97\n",
       "5    Bangladesh      27  2,438     90\n",
       "6   West Indies      27  2,222     82\n",
       "7     Sri Lanka      24  1,876     78\n",
       "8   Afghanistan      17  1,054     62"
      ]
     },
     "execution_count": 2421,
     "metadata": {},
     "output_type": "execute_result"
    }
   ],
   "source": [
    "top_10"
   ]
  },
  {
   "cell_type": "code",
   "execution_count": 2422,
   "metadata": {},
   "outputs": [],
   "source": [
    "name_banner_=soup.find_all('span' ,class_=\"u-hide-phablet\")\n"
   ]
  },
  {
   "cell_type": "code",
   "execution_count": 2423,
   "metadata": {},
   "outputs": [
    {
     "data": {
      "text/plain": [
       "['New Zealand']"
      ]
     },
     "execution_count": 2423,
     "metadata": {},
     "output_type": "execute_result"
    }
   ],
   "source": [
    "name_banner=[]\n",
    "for i in name_banner_:\n",
    "    name_banner.append(i.text.replace(\"\\n\",\" \"))\n",
    "name_banner[:1]\n"
   ]
  },
  {
   "cell_type": "code",
   "execution_count": 2424,
   "metadata": {},
   "outputs": [
    {
     "data": {
      "text/plain": [
       "[<td class=\"rankings-block__banner--matches\">17</td>]"
      ]
     },
     "execution_count": 2424,
     "metadata": {},
     "output_type": "execute_result"
    }
   ],
   "source": [
    "match_banner_=soup.find_all('td', class_=\"rankings-block__banner--matches\")\n",
    "match_banner_"
   ]
  },
  {
   "cell_type": "code",
   "execution_count": 2425,
   "metadata": {},
   "outputs": [
    {
     "data": {
      "text/plain": [
       "['17']"
      ]
     },
     "execution_count": 2425,
     "metadata": {},
     "output_type": "execute_result"
    }
   ],
   "source": [
    "match_banner=[]\n",
    "for i in match_banner_:\n",
    "    match_banner.append(i.text.replace(\"\\n\",\" \"))\n",
    "match_banner\n"
   ]
  },
  {
   "cell_type": "code",
   "execution_count": 2426,
   "metadata": {},
   "outputs": [
    {
     "data": {
      "text/plain": [
       "[<td class=\"rankings-block__banner--points\">2,054</td>]"
      ]
     },
     "execution_count": 2426,
     "metadata": {},
     "output_type": "execute_result"
    }
   ],
   "source": [
    "point_banner_=soup.find_all('td' ,class_=\"rankings-block__banner--points\")\n",
    "point_banner_"
   ]
  },
  {
   "cell_type": "code",
   "execution_count": 2427,
   "metadata": {},
   "outputs": [
    {
     "data": {
      "text/plain": [
       "['2,054']"
      ]
     },
     "execution_count": 2427,
     "metadata": {},
     "output_type": "execute_result"
    }
   ],
   "source": [
    "point_banner=[]\n",
    "for i in point_banner_:\n",
    "    point_banner.append(i.text.replace(\"\\n\",\" \"))\n",
    "point_banner"
   ]
  },
  {
   "cell_type": "code",
   "execution_count": 2428,
   "metadata": {},
   "outputs": [
    {
     "data": {
      "text/plain": [
       "[<td class=\"rankings-block__banner--rating u-text-right\">\n",
       "                             121\n",
       "                             <span class=\"circle-branding circle-branding--top\"></span>\n",
       " <span class=\"circle-branding circle-branding--bottom\"></span>\n",
       " </td>]"
      ]
     },
     "execution_count": 2428,
     "metadata": {},
     "output_type": "execute_result"
    }
   ],
   "source": [
    "rating_banner_=soup.find_all('td' ,class_=\"rankings-block__banner--rating u-text-right\")\n",
    "rating_banner_"
   ]
  },
  {
   "cell_type": "code",
   "execution_count": 2429,
   "metadata": {},
   "outputs": [
    {
     "data": {
      "text/plain": [
       "['121']"
      ]
     },
     "execution_count": 2429,
     "metadata": {},
     "output_type": "execute_result"
    }
   ],
   "source": [
    "rating_banner=[]\n",
    "for i in rating_banner_:\n",
    "    rating_banner.append(i.text.replace(\"\\n\",\"\").replace(\"  \",\"\"))\n",
    "rating_banner"
   ]
  },
  {
   "cell_type": "code",
   "execution_count": 2430,
   "metadata": {},
   "outputs": [
    {
     "data": {
      "text/plain": [
       "25"
      ]
     },
     "execution_count": 2430,
     "metadata": {},
     "output_type": "execute_result"
    }
   ],
   "source": [
    "len(name_banner)"
   ]
  },
  {
   "cell_type": "code",
   "execution_count": 2431,
   "metadata": {},
   "outputs": [
    {
     "data": {
      "text/plain": [
       "1"
      ]
     },
     "execution_count": 2431,
     "metadata": {},
     "output_type": "execute_result"
    }
   ],
   "source": [
    "len(point_banner)"
   ]
  },
  {
   "cell_type": "code",
   "execution_count": 2432,
   "metadata": {},
   "outputs": [
    {
     "data": {
      "text/html": [
       "<div>\n",
       "<style scoped>\n",
       "    .dataframe tbody tr th:only-of-type {\n",
       "        vertical-align: middle;\n",
       "    }\n",
       "\n",
       "    .dataframe tbody tr th {\n",
       "        vertical-align: top;\n",
       "    }\n",
       "\n",
       "    .dataframe thead th {\n",
       "        text-align: right;\n",
       "    }\n",
       "</style>\n",
       "<table border=\"1\" class=\"dataframe\">\n",
       "  <thead>\n",
       "    <tr style=\"text-align: right;\">\n",
       "      <th></th>\n",
       "      <th>Team</th>\n",
       "      <th>Matches</th>\n",
       "      <th>Point</th>\n",
       "      <th>Rating</th>\n",
       "    </tr>\n",
       "  </thead>\n",
       "  <tbody>\n",
       "    <tr>\n",
       "      <th>0</th>\n",
       "      <td>New Zealand</td>\n",
       "      <td>17</td>\n",
       "      <td>2,054</td>\n",
       "      <td>121</td>\n",
       "    </tr>\n",
       "  </tbody>\n",
       "</table>\n",
       "</div>"
      ],
      "text/plain": [
       "          Team Matches  Point Rating\n",
       "0  New Zealand      17  2,054    121"
      ]
     },
     "execution_count": 2432,
     "metadata": {},
     "output_type": "execute_result"
    }
   ],
   "source": [
    "banner=pd.DataFrame({\"Team\":name_banner[:1],\"Matches\":match_banner[:1],\"Point\":point_banner[:1],\"Rating\":rating_banner[:1]})\n",
    "banner"
   ]
  },
  {
   "cell_type": "code",
   "execution_count": 2433,
   "metadata": {},
   "outputs": [
    {
     "data": {
      "text/html": [
       "<div>\n",
       "<style scoped>\n",
       "    .dataframe tbody tr th:only-of-type {\n",
       "        vertical-align: middle;\n",
       "    }\n",
       "\n",
       "    .dataframe tbody tr th {\n",
       "        vertical-align: top;\n",
       "    }\n",
       "\n",
       "    .dataframe thead th {\n",
       "        text-align: right;\n",
       "    }\n",
       "</style>\n",
       "<table border=\"1\" class=\"dataframe\">\n",
       "  <thead>\n",
       "    <tr style=\"text-align: right;\">\n",
       "      <th></th>\n",
       "      <th>Team</th>\n",
       "      <th>Matches</th>\n",
       "      <th>Point</th>\n",
       "      <th>Rating</th>\n",
       "    </tr>\n",
       "  </thead>\n",
       "  <tbody>\n",
       "    <tr>\n",
       "      <th>0</th>\n",
       "      <td>New Zealand</td>\n",
       "      <td>17</td>\n",
       "      <td>2,054</td>\n",
       "      <td>121</td>\n",
       "    </tr>\n",
       "    <tr>\n",
       "      <th>1</th>\n",
       "      <td>Australia</td>\n",
       "      <td>25</td>\n",
       "      <td>2,945</td>\n",
       "      <td>118</td>\n",
       "    </tr>\n",
       "    <tr>\n",
       "      <th>2</th>\n",
       "      <td>India</td>\n",
       "      <td>29</td>\n",
       "      <td>3,344</td>\n",
       "      <td>115</td>\n",
       "    </tr>\n",
       "    <tr>\n",
       "      <th>3</th>\n",
       "      <td>England</td>\n",
       "      <td>27</td>\n",
       "      <td>3,100</td>\n",
       "      <td>115</td>\n",
       "    </tr>\n",
       "    <tr>\n",
       "      <th>4</th>\n",
       "      <td>South Africa</td>\n",
       "      <td>20</td>\n",
       "      <td>2,137</td>\n",
       "      <td>107</td>\n",
       "    </tr>\n",
       "    <tr>\n",
       "      <th>5</th>\n",
       "      <td>Pakistan</td>\n",
       "      <td>24</td>\n",
       "      <td>2,323</td>\n",
       "      <td>97</td>\n",
       "    </tr>\n",
       "    <tr>\n",
       "      <th>6</th>\n",
       "      <td>Bangladesh</td>\n",
       "      <td>27</td>\n",
       "      <td>2,438</td>\n",
       "      <td>90</td>\n",
       "    </tr>\n",
       "    <tr>\n",
       "      <th>7</th>\n",
       "      <td>West Indies</td>\n",
       "      <td>27</td>\n",
       "      <td>2,222</td>\n",
       "      <td>82</td>\n",
       "    </tr>\n",
       "    <tr>\n",
       "      <th>8</th>\n",
       "      <td>Sri Lanka</td>\n",
       "      <td>24</td>\n",
       "      <td>1,876</td>\n",
       "      <td>78</td>\n",
       "    </tr>\n",
       "    <tr>\n",
       "      <th>9</th>\n",
       "      <td>Afghanistan</td>\n",
       "      <td>17</td>\n",
       "      <td>1,054</td>\n",
       "      <td>62</td>\n",
       "    </tr>\n",
       "  </tbody>\n",
       "</table>\n",
       "</div>"
      ],
      "text/plain": [
       "           Team Matches  Point Rating\n",
       "0   New Zealand      17  2,054    121\n",
       "1     Australia      25  2,945    118\n",
       "2         India      29  3,344    115\n",
       "3       England      27  3,100    115\n",
       "4  South Africa      20  2,137    107\n",
       "5      Pakistan      24  2,323     97\n",
       "6    Bangladesh      27  2,438     90\n",
       "7   West Indies      27  2,222     82\n",
       "8     Sri Lanka      24  1,876     78\n",
       "9   Afghanistan      17  1,054     62"
      ]
     },
     "execution_count": 2433,
     "metadata": {},
     "output_type": "execute_result"
    }
   ],
   "source": [
    "ODI_TOP=banner.append(top_10,ignore_index=True)\n",
    "ODI_TOP"
   ]
  },
  {
   "cell_type": "markdown",
   "metadata": {},
   "source": [
    "> ii. Top 10 ODI Batsmen in men along with the records of their team and rating."
   ]
  },
  {
   "cell_type": "code",
   "execution_count": 2434,
   "metadata": {},
   "outputs": [
    {
     "data": {
      "text/plain": [
       "<Response [200]>"
      ]
     },
     "execution_count": 2434,
     "metadata": {},
     "output_type": "execute_result"
    }
   ],
   "source": [
    "url=requests.get(\"https://www.icc-cricket.com/rankings/mens/player-rankings/odi/Batting\")\n",
    "url"
   ]
  },
  {
   "cell_type": "code",
   "execution_count": 2435,
   "metadata": {},
   "outputs": [],
   "source": [
    "soup=BeautifulSoup(url.content)\n"
   ]
  },
  {
   "cell_type": "code",
   "execution_count": 2436,
   "metadata": {},
   "outputs": [],
   "source": [
    "name=soup.find_all('td' ,class_=\"table-body__cell rankings-table__name name\")\n"
   ]
  },
  {
   "cell_type": "code",
   "execution_count": 2437,
   "metadata": {},
   "outputs": [],
   "source": [
    "player_name=[]\n",
    "player_team=[]\n",
    "player_point=[]\n",
    "\n"
   ]
  },
  {
   "cell_type": "code",
   "execution_count": 2438,
   "metadata": {},
   "outputs": [
    {
     "data": {
      "text/plain": [
       "[' Virat Kohli ',\n",
       " ' Rohit Sharma ',\n",
       " ' Ross Taylor ',\n",
       " ' Aaron Finch ',\n",
       " ' Jonny Bairstow ',\n",
       " ' Fakhar Zaman ',\n",
       " ' Francois du Plessis ',\n",
       " ' David Warner ',\n",
       " ' Shai Hope ']"
      ]
     },
     "execution_count": 2438,
     "metadata": {},
     "output_type": "execute_result"
    }
   ],
   "source": [
    "for i in name:\n",
    "    player_name.append(i.text.replace(\"\\n\",\" \"))\n",
    "player_name[:9]"
   ]
  },
  {
   "cell_type": "code",
   "execution_count": 2439,
   "metadata": {},
   "outputs": [
    {
     "data": {
      "text/plain": [
       "[<span class=\"table-body__logo-text\">IND</span>]"
      ]
     },
     "execution_count": 2439,
     "metadata": {},
     "output_type": "execute_result"
    }
   ],
   "source": [
    "team=soup.find_all('span' ,class_=\"table-body__logo-text\")\n",
    "team[:1]"
   ]
  },
  {
   "cell_type": "code",
   "execution_count": 2440,
   "metadata": {},
   "outputs": [
    {
     "data": {
      "text/plain": [
       "['IND', 'IND', 'NZ', 'AUS', 'ENG', 'PAK', 'SA', 'AUS', 'WI']"
      ]
     },
     "execution_count": 2440,
     "metadata": {},
     "output_type": "execute_result"
    }
   ],
   "source": [
    "for i in team:\n",
    "    player_team.append(i.text.replace(\"\\n\",\" \"))\n",
    "player_team[:9]"
   ]
  },
  {
   "cell_type": "code",
   "execution_count": 2441,
   "metadata": {},
   "outputs": [
    {
     "data": {
      "text/plain": [
       "[<td class=\"table-body__cell rating\">857</td>]"
      ]
     },
     "execution_count": 2441,
     "metadata": {},
     "output_type": "execute_result"
    }
   ],
   "source": [
    "point=soup.find_all('td' ,class_=\"table-body__cell rating\")\n",
    "point[:1]"
   ]
  },
  {
   "cell_type": "code",
   "execution_count": 2442,
   "metadata": {},
   "outputs": [
    {
     "data": {
      "text/plain": [
       "['857', '825', '801', '791', '785', '778', '778', '773', '773']"
      ]
     },
     "execution_count": 2442,
     "metadata": {},
     "output_type": "execute_result"
    }
   ],
   "source": [
    "for i in point:\n",
    "    player_point.append(i.text.replace(\"\\n\",\"\"))\n",
    "player_point[:9]"
   ]
  },
  {
   "cell_type": "code",
   "execution_count": 2443,
   "metadata": {},
   "outputs": [
    {
     "data": {
      "text/html": [
       "<div>\n",
       "<style scoped>\n",
       "    .dataframe tbody tr th:only-of-type {\n",
       "        vertical-align: middle;\n",
       "    }\n",
       "\n",
       "    .dataframe tbody tr th {\n",
       "        vertical-align: top;\n",
       "    }\n",
       "\n",
       "    .dataframe thead th {\n",
       "        text-align: right;\n",
       "    }\n",
       "</style>\n",
       "<table border=\"1\" class=\"dataframe\">\n",
       "  <thead>\n",
       "    <tr style=\"text-align: right;\">\n",
       "      <th></th>\n",
       "      <th>Name</th>\n",
       "      <th>Team</th>\n",
       "      <th>Points</th>\n",
       "    </tr>\n",
       "  </thead>\n",
       "  <tbody>\n",
       "    <tr>\n",
       "      <th>0</th>\n",
       "      <td>Virat Kohli</td>\n",
       "      <td>IND</td>\n",
       "      <td>857</td>\n",
       "    </tr>\n",
       "    <tr>\n",
       "      <th>1</th>\n",
       "      <td>Rohit Sharma</td>\n",
       "      <td>IND</td>\n",
       "      <td>825</td>\n",
       "    </tr>\n",
       "    <tr>\n",
       "      <th>2</th>\n",
       "      <td>Ross Taylor</td>\n",
       "      <td>NZ</td>\n",
       "      <td>801</td>\n",
       "    </tr>\n",
       "    <tr>\n",
       "      <th>3</th>\n",
       "      <td>Aaron Finch</td>\n",
       "      <td>AUS</td>\n",
       "      <td>791</td>\n",
       "    </tr>\n",
       "    <tr>\n",
       "      <th>4</th>\n",
       "      <td>Jonny Bairstow</td>\n",
       "      <td>ENG</td>\n",
       "      <td>785</td>\n",
       "    </tr>\n",
       "    <tr>\n",
       "      <th>5</th>\n",
       "      <td>Fakhar Zaman</td>\n",
       "      <td>PAK</td>\n",
       "      <td>778</td>\n",
       "    </tr>\n",
       "    <tr>\n",
       "      <th>6</th>\n",
       "      <td>Francois du Plessis</td>\n",
       "      <td>SA</td>\n",
       "      <td>778</td>\n",
       "    </tr>\n",
       "    <tr>\n",
       "      <th>7</th>\n",
       "      <td>David Warner</td>\n",
       "      <td>AUS</td>\n",
       "      <td>773</td>\n",
       "    </tr>\n",
       "    <tr>\n",
       "      <th>8</th>\n",
       "      <td>Shai Hope</td>\n",
       "      <td>WI</td>\n",
       "      <td>773</td>\n",
       "    </tr>\n",
       "  </tbody>\n",
       "</table>\n",
       "</div>"
      ],
      "text/plain": [
       "                    Name Team Points\n",
       "0           Virat Kohli   IND    857\n",
       "1          Rohit Sharma   IND    825\n",
       "2           Ross Taylor    NZ    801\n",
       "3           Aaron Finch   AUS    791\n",
       "4        Jonny Bairstow   ENG    785\n",
       "5          Fakhar Zaman   PAK    778\n",
       "6   Francois du Plessis    SA    778\n",
       "7          David Warner   AUS    773\n",
       "8             Shai Hope    WI    773"
      ]
     },
     "execution_count": 2443,
     "metadata": {},
     "output_type": "execute_result"
    }
   ],
   "source": [
    "top_10_players_=pd.DataFrame({\"Name\":player_name[:9],\"Team\":player_team[:9],\"Points\":player_point[:9]})\n",
    "top_10_players_"
   ]
  },
  {
   "cell_type": "code",
   "execution_count": 2444,
   "metadata": {},
   "outputs": [],
   "source": [
    "name_banner=[]\n",
    "team_banner=[]\n",
    "point_banner=[]"
   ]
  },
  {
   "cell_type": "code",
   "execution_count": 2445,
   "metadata": {},
   "outputs": [
    {
     "data": {
      "text/plain": [
       "[<div class=\"rankings-block__banner--name-large\">Babar Azam</div>]"
      ]
     },
     "execution_count": 2445,
     "metadata": {},
     "output_type": "execute_result"
    }
   ],
   "source": [
    "name_banner_=soup.find_all('div', class_=\"rankings-block__banner--name-large\")\n",
    "name_banner_"
   ]
  },
  {
   "cell_type": "code",
   "execution_count": 2446,
   "metadata": {},
   "outputs": [
    {
     "data": {
      "text/plain": [
       "['Babar Azam']"
      ]
     },
     "execution_count": 2446,
     "metadata": {},
     "output_type": "execute_result"
    }
   ],
   "source": [
    "for i in name_banner_:\n",
    "    name_banner.append(i.text.replace(\"\\n\",\" \"))\n",
    "name_banner"
   ]
  },
  {
   "cell_type": "code",
   "execution_count": 2447,
   "metadata": {},
   "outputs": [
    {
     "data": {
      "text/plain": [
       "[<div class=\"rankings-block__banner--nationality\">\n",
       " <div class=\"flag-15 PAK\"></div>\n",
       " <span class=\"rankings-block__banner--nation\"></span>PAK\n",
       "                     </div>]"
      ]
     },
     "execution_count": 2447,
     "metadata": {},
     "output_type": "execute_result"
    }
   ],
   "source": [
    "team_banner_=soup.find_all(\"div\", class_=\"rankings-block__banner--nationality\")\n",
    "team_banner_"
   ]
  },
  {
   "cell_type": "code",
   "execution_count": 2448,
   "metadata": {},
   "outputs": [
    {
     "data": {
      "text/plain": [
       "['PAK']"
      ]
     },
     "execution_count": 2448,
     "metadata": {},
     "output_type": "execute_result"
    }
   ],
   "source": [
    "for i in team_banner_:\n",
    "        team_banner.append(i.text.strip())\n",
    "team_banner"
   ]
  },
  {
   "cell_type": "code",
   "execution_count": 2449,
   "metadata": {},
   "outputs": [
    {
     "data": {
      "text/plain": [
       "[<div class=\"rankings-block__banner--rating\">865</div>]"
      ]
     },
     "execution_count": 2449,
     "metadata": {},
     "output_type": "execute_result"
    }
   ],
   "source": [
    "point_banner_=soup.find_all('div' ,class_=\"rankings-block__banner--rating\")\n",
    "point_banner_"
   ]
  },
  {
   "cell_type": "code",
   "execution_count": 2450,
   "metadata": {},
   "outputs": [
    {
     "data": {
      "text/plain": [
       "['865']"
      ]
     },
     "execution_count": 2450,
     "metadata": {},
     "output_type": "execute_result"
    }
   ],
   "source": [
    "for i in point_banner_:\n",
    "    point_banner.append(i.text.replace(\"\\n\",\"\"))\n",
    "point_banner"
   ]
  },
  {
   "cell_type": "code",
   "execution_count": 2451,
   "metadata": {},
   "outputs": [
    {
     "data": {
      "text/html": [
       "<div>\n",
       "<style scoped>\n",
       "    .dataframe tbody tr th:only-of-type {\n",
       "        vertical-align: middle;\n",
       "    }\n",
       "\n",
       "    .dataframe tbody tr th {\n",
       "        vertical-align: top;\n",
       "    }\n",
       "\n",
       "    .dataframe thead th {\n",
       "        text-align: right;\n",
       "    }\n",
       "</style>\n",
       "<table border=\"1\" class=\"dataframe\">\n",
       "  <thead>\n",
       "    <tr style=\"text-align: right;\">\n",
       "      <th></th>\n",
       "      <th>Name</th>\n",
       "      <th>Team</th>\n",
       "      <th>Points</th>\n",
       "    </tr>\n",
       "  </thead>\n",
       "  <tbody>\n",
       "    <tr>\n",
       "      <th>0</th>\n",
       "      <td>Babar Azam</td>\n",
       "      <td>PAK</td>\n",
       "      <td>865</td>\n",
       "    </tr>\n",
       "  </tbody>\n",
       "</table>\n",
       "</div>"
      ],
      "text/plain": [
       "         Name Team Points\n",
       "0  Babar Azam  PAK    865"
      ]
     },
     "execution_count": 2451,
     "metadata": {},
     "output_type": "execute_result"
    }
   ],
   "source": [
    "banner_player=pd.DataFrame({\"Name\":name_banner[:1],\"Team\":team_banner[:1],\"Points\":point_banner[:1]})\n",
    "banner_player"
   ]
  },
  {
   "cell_type": "code",
   "execution_count": 2452,
   "metadata": {},
   "outputs": [
    {
     "data": {
      "text/html": [
       "<div>\n",
       "<style scoped>\n",
       "    .dataframe tbody tr th:only-of-type {\n",
       "        vertical-align: middle;\n",
       "    }\n",
       "\n",
       "    .dataframe tbody tr th {\n",
       "        vertical-align: top;\n",
       "    }\n",
       "\n",
       "    .dataframe thead th {\n",
       "        text-align: right;\n",
       "    }\n",
       "</style>\n",
       "<table border=\"1\" class=\"dataframe\">\n",
       "  <thead>\n",
       "    <tr style=\"text-align: right;\">\n",
       "      <th></th>\n",
       "      <th>Name</th>\n",
       "      <th>Team</th>\n",
       "      <th>Points</th>\n",
       "    </tr>\n",
       "  </thead>\n",
       "  <tbody>\n",
       "    <tr>\n",
       "      <th>0</th>\n",
       "      <td>Babar Azam</td>\n",
       "      <td>PAK</td>\n",
       "      <td>865</td>\n",
       "    </tr>\n",
       "    <tr>\n",
       "      <th>1</th>\n",
       "      <td>Virat Kohli</td>\n",
       "      <td>IND</td>\n",
       "      <td>857</td>\n",
       "    </tr>\n",
       "    <tr>\n",
       "      <th>2</th>\n",
       "      <td>Rohit Sharma</td>\n",
       "      <td>IND</td>\n",
       "      <td>825</td>\n",
       "    </tr>\n",
       "    <tr>\n",
       "      <th>3</th>\n",
       "      <td>Ross Taylor</td>\n",
       "      <td>NZ</td>\n",
       "      <td>801</td>\n",
       "    </tr>\n",
       "    <tr>\n",
       "      <th>4</th>\n",
       "      <td>Aaron Finch</td>\n",
       "      <td>AUS</td>\n",
       "      <td>791</td>\n",
       "    </tr>\n",
       "    <tr>\n",
       "      <th>5</th>\n",
       "      <td>Jonny Bairstow</td>\n",
       "      <td>ENG</td>\n",
       "      <td>785</td>\n",
       "    </tr>\n",
       "    <tr>\n",
       "      <th>6</th>\n",
       "      <td>Fakhar Zaman</td>\n",
       "      <td>PAK</td>\n",
       "      <td>778</td>\n",
       "    </tr>\n",
       "    <tr>\n",
       "      <th>7</th>\n",
       "      <td>Francois du Plessis</td>\n",
       "      <td>SA</td>\n",
       "      <td>778</td>\n",
       "    </tr>\n",
       "    <tr>\n",
       "      <th>8</th>\n",
       "      <td>David Warner</td>\n",
       "      <td>AUS</td>\n",
       "      <td>773</td>\n",
       "    </tr>\n",
       "    <tr>\n",
       "      <th>9</th>\n",
       "      <td>Shai Hope</td>\n",
       "      <td>WI</td>\n",
       "      <td>773</td>\n",
       "    </tr>\n",
       "  </tbody>\n",
       "</table>\n",
       "</div>"
      ],
      "text/plain": [
       "                    Name Team Points\n",
       "0             Babar Azam  PAK    865\n",
       "1           Virat Kohli   IND    857\n",
       "2          Rohit Sharma   IND    825\n",
       "3           Ross Taylor    NZ    801\n",
       "4           Aaron Finch   AUS    791\n",
       "5        Jonny Bairstow   ENG    785\n",
       "6          Fakhar Zaman   PAK    778\n",
       "7   Francois du Plessis    SA    778\n",
       "8          David Warner   AUS    773\n",
       "9             Shai Hope    WI    773"
      ]
     },
     "execution_count": 2452,
     "metadata": {},
     "output_type": "execute_result"
    }
   ],
   "source": [
    "top_10_player=banner_player.append(top_10_players_,ignore_index=True)\n",
    "top_10_player"
   ]
  },
  {
   "cell_type": "markdown",
   "metadata": {},
   "source": [
    " iii. Top 10 ODI bowlers along with the records of their team and rating."
   ]
  },
  {
   "cell_type": "code",
   "execution_count": 2453,
   "metadata": {},
   "outputs": [
    {
     "data": {
      "text/plain": [
       "<Response [200]>"
      ]
     },
     "execution_count": 2453,
     "metadata": {},
     "output_type": "execute_result"
    }
   ],
   "source": [
    "url=requests.get(\"https://www.icc-cricket.com/rankings/mens/player-rankings/odi/Bowling\")\n",
    "url"
   ]
  },
  {
   "cell_type": "code",
   "execution_count": 2454,
   "metadata": {},
   "outputs": [],
   "source": [
    "soup=BeautifulSoup(url.content)"
   ]
  },
  {
   "cell_type": "code",
   "execution_count": 2455,
   "metadata": {},
   "outputs": [],
   "source": [
    "bowler_name=[]\n",
    "bowler_team=[]\n",
    "bowler_point=[]"
   ]
  },
  {
   "cell_type": "code",
   "execution_count": 2456,
   "metadata": {},
   "outputs": [
    {
     "data": {
      "text/plain": [
       "[<td class=\"table-body__cell rankings-table__name name\">\n",
       " <a href=\"/rankings/mens/player-rankings/1597\">Mehedi Hasan</a>\n",
       " </td>]"
      ]
     },
     "execution_count": 2456,
     "metadata": {},
     "output_type": "execute_result"
    }
   ],
   "source": [
    "bowler_name_=soup.find_all('td' ,class_=\"table-body__cell rankings-table__name name\")\n",
    "bowler_name_[:1]"
   ]
  },
  {
   "cell_type": "code",
   "execution_count": 2457,
   "metadata": {},
   "outputs": [
    {
     "data": {
      "text/plain": [
       "[' Mehedi Hasan ',\n",
       " ' Mujeeb Ur Rahman ',\n",
       " ' Matt Henry ',\n",
       " ' Jasprit Bumrah ',\n",
       " ' Kagiso Rabada ',\n",
       " ' Chris Woakes ',\n",
       " ' Josh Hazlewood ',\n",
       " ' Pat Cummins ',\n",
       " ' Mustafizur Rahman ']"
      ]
     },
     "execution_count": 2457,
     "metadata": {},
     "output_type": "execute_result"
    }
   ],
   "source": [
    "for i in  bowler_name_:\n",
    "    bowler_name.append(i.text.replace(\"\\n\",\" \"))\n",
    "bowler_name[:9]"
   ]
  },
  {
   "cell_type": "code",
   "execution_count": 2458,
   "metadata": {},
   "outputs": [
    {
     "data": {
      "text/plain": [
       "[<span class=\"table-body__logo-text\">BAN</span>]"
      ]
     },
     "execution_count": 2458,
     "metadata": {},
     "output_type": "execute_result"
    }
   ],
   "source": [
    "bowler_team_=soup.find_all('span' ,class_=\"table-body__logo-text\")\n",
    "bowler_team_[:1]"
   ]
  },
  {
   "cell_type": "code",
   "execution_count": 2459,
   "metadata": {},
   "outputs": [
    {
     "data": {
      "text/plain": [
       "['BAN', 'AFG', 'NZ', 'IND', 'SA', 'ENG', 'AUS', 'AUS', 'BAN']"
      ]
     },
     "execution_count": 2459,
     "metadata": {},
     "output_type": "execute_result"
    }
   ],
   "source": [
    "for i in bowler_team_:\n",
    "    bowler_team.append(i.text.replace(\"\\n\",\" \"))\n",
    "bowler_team[:9]"
   ]
  },
  {
   "cell_type": "code",
   "execution_count": 2460,
   "metadata": {},
   "outputs": [
    {
     "data": {
      "text/plain": [
       "[<td class=\"table-body__cell rating\">713</td>]"
      ]
     },
     "execution_count": 2460,
     "metadata": {},
     "output_type": "execute_result"
    }
   ],
   "source": [
    "bowler_point_=soup.find_all(\"td\", class_=\"table-body__cell rating\")\n",
    "bowler_point_[:1]"
   ]
  },
  {
   "cell_type": "code",
   "execution_count": 2461,
   "metadata": {},
   "outputs": [
    {
     "data": {
      "text/plain": [
       "['713', '708', '691', '690', '666', '665', '660', '646', '645']"
      ]
     },
     "execution_count": 2461,
     "metadata": {},
     "output_type": "execute_result"
    }
   ],
   "source": [
    "for i in bowler_point_:\n",
    "    bowler_point.append(i.text.replace(\"\\n\", \"\"))\n",
    "bowler_point[:9]"
   ]
  },
  {
   "cell_type": "code",
   "execution_count": 2462,
   "metadata": {},
   "outputs": [
    {
     "data": {
      "text/html": [
       "<div>\n",
       "<style scoped>\n",
       "    .dataframe tbody tr th:only-of-type {\n",
       "        vertical-align: middle;\n",
       "    }\n",
       "\n",
       "    .dataframe tbody tr th {\n",
       "        vertical-align: top;\n",
       "    }\n",
       "\n",
       "    .dataframe thead th {\n",
       "        text-align: right;\n",
       "    }\n",
       "</style>\n",
       "<table border=\"1\" class=\"dataframe\">\n",
       "  <thead>\n",
       "    <tr style=\"text-align: right;\">\n",
       "      <th></th>\n",
       "      <th>Player</th>\n",
       "      <th>Team</th>\n",
       "      <th>Rating</th>\n",
       "    </tr>\n",
       "  </thead>\n",
       "  <tbody>\n",
       "    <tr>\n",
       "      <th>0</th>\n",
       "      <td>Mehedi Hasan</td>\n",
       "      <td>BAN</td>\n",
       "      <td>713</td>\n",
       "    </tr>\n",
       "    <tr>\n",
       "      <th>1</th>\n",
       "      <td>Mujeeb Ur Rahman</td>\n",
       "      <td>AFG</td>\n",
       "      <td>708</td>\n",
       "    </tr>\n",
       "    <tr>\n",
       "      <th>2</th>\n",
       "      <td>Matt Henry</td>\n",
       "      <td>NZ</td>\n",
       "      <td>691</td>\n",
       "    </tr>\n",
       "    <tr>\n",
       "      <th>3</th>\n",
       "      <td>Jasprit Bumrah</td>\n",
       "      <td>IND</td>\n",
       "      <td>690</td>\n",
       "    </tr>\n",
       "    <tr>\n",
       "      <th>4</th>\n",
       "      <td>Kagiso Rabada</td>\n",
       "      <td>SA</td>\n",
       "      <td>666</td>\n",
       "    </tr>\n",
       "    <tr>\n",
       "      <th>5</th>\n",
       "      <td>Chris Woakes</td>\n",
       "      <td>ENG</td>\n",
       "      <td>665</td>\n",
       "    </tr>\n",
       "    <tr>\n",
       "      <th>6</th>\n",
       "      <td>Josh Hazlewood</td>\n",
       "      <td>AUS</td>\n",
       "      <td>660</td>\n",
       "    </tr>\n",
       "    <tr>\n",
       "      <th>7</th>\n",
       "      <td>Pat Cummins</td>\n",
       "      <td>AUS</td>\n",
       "      <td>646</td>\n",
       "    </tr>\n",
       "    <tr>\n",
       "      <th>8</th>\n",
       "      <td>Mustafizur Rahman</td>\n",
       "      <td>BAN</td>\n",
       "      <td>645</td>\n",
       "    </tr>\n",
       "  </tbody>\n",
       "</table>\n",
       "</div>"
      ],
      "text/plain": [
       "                Player Team Rating\n",
       "0        Mehedi Hasan   BAN    713\n",
       "1    Mujeeb Ur Rahman   AFG    708\n",
       "2          Matt Henry    NZ    691\n",
       "3      Jasprit Bumrah   IND    690\n",
       "4       Kagiso Rabada    SA    666\n",
       "5        Chris Woakes   ENG    665\n",
       "6      Josh Hazlewood   AUS    660\n",
       "7         Pat Cummins   AUS    646\n",
       "8   Mustafizur Rahman   BAN    645"
      ]
     },
     "execution_count": 2462,
     "metadata": {},
     "output_type": "execute_result"
    }
   ],
   "source": [
    "Top_10_bowlers_=pd.DataFrame({\"Player\":bowler_name[:9],\"Team\":bowler_team[:9],\"Rating\":bowler_point[:9]})\n",
    "Top_10_bowlers_"
   ]
  },
  {
   "cell_type": "code",
   "execution_count": 2463,
   "metadata": {},
   "outputs": [],
   "source": [
    "banner_name=[]\n",
    "banner_team=[]\n",
    "banner_point=[]"
   ]
  },
  {
   "cell_type": "code",
   "execution_count": 2464,
   "metadata": {},
   "outputs": [
    {
     "data": {
      "text/plain": [
       "[<div class=\"rankings-block__banner--name-large\">Trent Boult</div>]"
      ]
     },
     "execution_count": 2464,
     "metadata": {},
     "output_type": "execute_result"
    }
   ],
   "source": [
    "banner_name_=soup.find_all('div' ,class_=\"rankings-block__banner--name-large\")\n",
    "banner_name_"
   ]
  },
  {
   "cell_type": "code",
   "execution_count": 2465,
   "metadata": {},
   "outputs": [
    {
     "data": {
      "text/plain": [
       "['Trent Boult']"
      ]
     },
     "execution_count": 2465,
     "metadata": {},
     "output_type": "execute_result"
    }
   ],
   "source": [
    "for i in banner_name_:\n",
    "    banner_name.append(i.text.replace(\"\\n\",\" \"))\n",
    "banner_name"
   ]
  },
  {
   "cell_type": "code",
   "execution_count": 2466,
   "metadata": {},
   "outputs": [
    {
     "data": {
      "text/plain": [
       "[<div class=\"rankings-block__banner--nationality\">\n",
       " <div class=\"flag-15 NZ\"></div>\n",
       " <span class=\"rankings-block__banner--nation\"></span>NZ\n",
       "                     </div>]"
      ]
     },
     "execution_count": 2466,
     "metadata": {},
     "output_type": "execute_result"
    }
   ],
   "source": [
    "banner_team_=soup.find_all('div' ,class_=\"rankings-block__banner--nationality\")\n",
    "banner_team_"
   ]
  },
  {
   "cell_type": "code",
   "execution_count": 2467,
   "metadata": {},
   "outputs": [
    {
     "data": {
      "text/plain": [
       "['NZ']"
      ]
     },
     "execution_count": 2467,
     "metadata": {},
     "output_type": "execute_result"
    }
   ],
   "source": [
    "for i in banner_team_:\n",
    "       banner_team.append(i.text.strip())\n",
    "banner_team"
   ]
  },
  {
   "cell_type": "code",
   "execution_count": 2468,
   "metadata": {},
   "outputs": [
    {
     "data": {
      "text/plain": [
       "[<div class=\"rankings-block__banner--rating\">737</div>]"
      ]
     },
     "execution_count": 2468,
     "metadata": {},
     "output_type": "execute_result"
    }
   ],
   "source": [
    "banner_point_=soup.find_all(\"div\" ,class_=\"rankings-block__banner--rating\")\n",
    "banner_point_"
   ]
  },
  {
   "cell_type": "code",
   "execution_count": 2469,
   "metadata": {},
   "outputs": [
    {
     "data": {
      "text/plain": [
       "['737']"
      ]
     },
     "execution_count": 2469,
     "metadata": {},
     "output_type": "execute_result"
    }
   ],
   "source": [
    "for i in banner_point_:\n",
    "    banner_point.append(i.text.replace(\"\\n\",\" \"))\n",
    "banner_point"
   ]
  },
  {
   "cell_type": "code",
   "execution_count": 2470,
   "metadata": {},
   "outputs": [
    {
     "data": {
      "text/html": [
       "<div>\n",
       "<style scoped>\n",
       "    .dataframe tbody tr th:only-of-type {\n",
       "        vertical-align: middle;\n",
       "    }\n",
       "\n",
       "    .dataframe tbody tr th {\n",
       "        vertical-align: top;\n",
       "    }\n",
       "\n",
       "    .dataframe thead th {\n",
       "        text-align: right;\n",
       "    }\n",
       "</style>\n",
       "<table border=\"1\" class=\"dataframe\">\n",
       "  <thead>\n",
       "    <tr style=\"text-align: right;\">\n",
       "      <th></th>\n",
       "      <th>Player</th>\n",
       "      <th>Team</th>\n",
       "      <th>Rating</th>\n",
       "    </tr>\n",
       "  </thead>\n",
       "  <tbody>\n",
       "    <tr>\n",
       "      <th>0</th>\n",
       "      <td>Trent Boult</td>\n",
       "      <td>NZ</td>\n",
       "      <td>737</td>\n",
       "    </tr>\n",
       "  </tbody>\n",
       "</table>\n",
       "</div>"
      ],
      "text/plain": [
       "        Player Team Rating\n",
       "0  Trent Boult   NZ    737"
      ]
     },
     "execution_count": 2470,
     "metadata": {},
     "output_type": "execute_result"
    }
   ],
   "source": [
    "banner_bowler=pd.DataFrame({\"Player\":banner_name,\"Team\":banner_team,\"Rating\":banner_point})\n",
    "banner_bowler"
   ]
  },
  {
   "cell_type": "code",
   "execution_count": 2471,
   "metadata": {},
   "outputs": [
    {
     "data": {
      "text/html": [
       "<div>\n",
       "<style scoped>\n",
       "    .dataframe tbody tr th:only-of-type {\n",
       "        vertical-align: middle;\n",
       "    }\n",
       "\n",
       "    .dataframe tbody tr th {\n",
       "        vertical-align: top;\n",
       "    }\n",
       "\n",
       "    .dataframe thead th {\n",
       "        text-align: right;\n",
       "    }\n",
       "</style>\n",
       "<table border=\"1\" class=\"dataframe\">\n",
       "  <thead>\n",
       "    <tr style=\"text-align: right;\">\n",
       "      <th></th>\n",
       "      <th>Player</th>\n",
       "      <th>Team</th>\n",
       "      <th>Rating</th>\n",
       "    </tr>\n",
       "  </thead>\n",
       "  <tbody>\n",
       "    <tr>\n",
       "      <th>0</th>\n",
       "      <td>Trent Boult</td>\n",
       "      <td>NZ</td>\n",
       "      <td>737</td>\n",
       "    </tr>\n",
       "    <tr>\n",
       "      <th>1</th>\n",
       "      <td>Mehedi Hasan</td>\n",
       "      <td>BAN</td>\n",
       "      <td>713</td>\n",
       "    </tr>\n",
       "    <tr>\n",
       "      <th>2</th>\n",
       "      <td>Mujeeb Ur Rahman</td>\n",
       "      <td>AFG</td>\n",
       "      <td>708</td>\n",
       "    </tr>\n",
       "    <tr>\n",
       "      <th>3</th>\n",
       "      <td>Matt Henry</td>\n",
       "      <td>NZ</td>\n",
       "      <td>691</td>\n",
       "    </tr>\n",
       "    <tr>\n",
       "      <th>4</th>\n",
       "      <td>Jasprit Bumrah</td>\n",
       "      <td>IND</td>\n",
       "      <td>690</td>\n",
       "    </tr>\n",
       "    <tr>\n",
       "      <th>5</th>\n",
       "      <td>Kagiso Rabada</td>\n",
       "      <td>SA</td>\n",
       "      <td>666</td>\n",
       "    </tr>\n",
       "    <tr>\n",
       "      <th>6</th>\n",
       "      <td>Chris Woakes</td>\n",
       "      <td>ENG</td>\n",
       "      <td>665</td>\n",
       "    </tr>\n",
       "    <tr>\n",
       "      <th>7</th>\n",
       "      <td>Josh Hazlewood</td>\n",
       "      <td>AUS</td>\n",
       "      <td>660</td>\n",
       "    </tr>\n",
       "    <tr>\n",
       "      <th>8</th>\n",
       "      <td>Pat Cummins</td>\n",
       "      <td>AUS</td>\n",
       "      <td>646</td>\n",
       "    </tr>\n",
       "    <tr>\n",
       "      <th>9</th>\n",
       "      <td>Mustafizur Rahman</td>\n",
       "      <td>BAN</td>\n",
       "      <td>645</td>\n",
       "    </tr>\n",
       "  </tbody>\n",
       "</table>\n",
       "</div>"
      ],
      "text/plain": [
       "                Player Team Rating\n",
       "0          Trent Boult   NZ    737\n",
       "1        Mehedi Hasan   BAN    713\n",
       "2    Mujeeb Ur Rahman   AFG    708\n",
       "3          Matt Henry    NZ    691\n",
       "4      Jasprit Bumrah   IND    690\n",
       "5       Kagiso Rabada    SA    666\n",
       "6        Chris Woakes   ENG    665\n",
       "7      Josh Hazlewood   AUS    660\n",
       "8         Pat Cummins   AUS    646\n",
       "9   Mustafizur Rahman   BAN    645"
      ]
     },
     "execution_count": 2471,
     "metadata": {},
     "output_type": "execute_result"
    }
   ],
   "source": [
    "Top_10_bowlers=banner_bowler.append(Top_10_bowlers_,ignore_index=True)\n",
    "Top_10_bowlers"
   ]
  },
  {
   "cell_type": "markdown",
   "metadata": {},
   "source": [
    "6.Write a python program to scrape cricket rankings from ‘www.icc-cricket.com’. You have to scrape:\n",
    "\n",
    "i. Top 10 ODI teams in women’s cricket along with the records for matches, points and rating"
   ]
  },
  {
   "cell_type": "code",
   "execution_count": 2472,
   "metadata": {},
   "outputs": [
    {
     "data": {
      "text/plain": [
       "<Response [200]>"
      ]
     },
     "execution_count": 2472,
     "metadata": {},
     "output_type": "execute_result"
    }
   ],
   "source": [
    "url=requests.get(\"https://www.icc-cricket.com/rankings/womens/team-rankings/odi\")\n",
    "url"
   ]
  },
  {
   "cell_type": "code",
   "execution_count": 2473,
   "metadata": {},
   "outputs": [],
   "source": [
    "soup=BeautifulSoup(url.content)\n",
    "\n"
   ]
  },
  {
   "cell_type": "code",
   "execution_count": 2474,
   "metadata": {},
   "outputs": [
    {
     "data": {
      "text/plain": [
       "[<span class=\"u-hide-phablet\">South Africa</span>,\n",
       " <span class=\"u-hide-phablet\">England</span>,\n",
       " <span class=\"u-hide-phablet\">India</span>,\n",
       " <span class=\"u-hide-phablet\">New Zealand</span>,\n",
       " <span class=\"u-hide-phablet\">West Indies</span>,\n",
       " <span class=\"u-hide-phablet\">Pakistan</span>,\n",
       " <span class=\"u-hide-phablet\">Bangladesh</span>,\n",
       " <span class=\"u-hide-phablet\">Sri Lanka</span>,\n",
       " <span class=\"u-hide-phablet\">Ireland</span>]"
      ]
     },
     "execution_count": 2474,
     "metadata": {},
     "output_type": "execute_result"
    }
   ],
   "source": [
    "women_team_=soup.find_all('span', class_='u-hide-phablet')\n",
    "women_team_[1:10]"
   ]
  },
  {
   "cell_type": "code",
   "execution_count": 2475,
   "metadata": {},
   "outputs": [],
   "source": [
    "women_team=[]\n",
    "women_match=[]\n",
    "women_point=[]\n",
    "women_rating=[]"
   ]
  },
  {
   "cell_type": "code",
   "execution_count": 2476,
   "metadata": {},
   "outputs": [
    {
     "data": {
      "text/plain": [
       "['South Africa',\n",
       " 'England',\n",
       " 'India',\n",
       " 'New Zealand',\n",
       " 'West Indies',\n",
       " 'Pakistan',\n",
       " 'Bangladesh',\n",
       " 'Sri Lanka',\n",
       " 'Ireland']"
      ]
     },
     "execution_count": 2476,
     "metadata": {},
     "output_type": "execute_result"
    }
   ],
   "source": [
    "for i in women_team_:\n",
    "    women_team.append(i.text.replace(\"\\n\",\" \"))\n",
    "women_team[1:10]    "
   ]
  },
  {
   "cell_type": "code",
   "execution_count": 2477,
   "metadata": {},
   "outputs": [
    {
     "data": {
      "text/plain": [
       "[<td class=\"table-body__cell u-center-text\">24</td>,\n",
       " <td class=\"table-body__cell u-center-text\">2,828</td>,\n",
       " <td class=\"table-body__cell u-center-text\">17</td>,\n",
       " <td class=\"table-body__cell u-center-text\">1,993</td>,\n",
       " <td class=\"table-body__cell u-center-text\">20</td>,\n",
       " <td class=\"table-body__cell u-center-text\">2,226</td>,\n",
       " <td class=\"table-body__cell u-center-text\">21</td>,\n",
       " <td class=\"table-body__cell u-center-text\">1,947</td>,\n",
       " <td class=\"table-body__cell u-center-text\">12</td>,\n",
       " <td class=\"table-body__cell u-center-text\">1,025</td>,\n",
       " <td class=\"table-body__cell u-center-text\">15</td>,\n",
       " <td class=\"table-body__cell u-center-text\">1,101</td>,\n",
       " <td class=\"table-body__cell u-center-text\">5</td>,\n",
       " <td class=\"table-body__cell u-center-text\">306</td>,\n",
       " <td class=\"table-body__cell u-center-text\">11</td>,\n",
       " <td class=\"table-body__cell u-center-text\">519</td>,\n",
       " <td class=\"table-body__cell u-center-text\">2</td>,\n",
       " <td class=\"table-body__cell u-center-text\">25</td>]"
      ]
     },
     "execution_count": 2477,
     "metadata": {},
     "output_type": "execute_result"
    }
   ],
   "source": [
    "women_match_=soup.find_all('td', class_='table-body__cell u-center-text')\n",
    "women_match_"
   ]
  },
  {
   "cell_type": "code",
   "execution_count": 2478,
   "metadata": {},
   "outputs": [
    {
     "data": {
      "text/plain": [
       "['24', '17', '20', '21', '12', '15', '5', '11', '2']"
      ]
     },
     "execution_count": 2478,
     "metadata": {},
     "output_type": "execute_result"
    }
   ],
   "source": [
    "for i in  range(0,len(women_match_),2):\n",
    "    women_match.append(women_match_[i].text)\n",
    "women_match[:9]"
   ]
  },
  {
   "cell_type": "code",
   "execution_count": 2479,
   "metadata": {},
   "outputs": [
    {
     "data": {
      "text/plain": [
       "['2,828', '1,993', '2,226', '1,947', '1,025', '1,101', '306', '519', '25']"
      ]
     },
     "execution_count": 2479,
     "metadata": {},
     "output_type": "execute_result"
    }
   ],
   "source": [
    "for i in  range(1,len(women_match_),2):\n",
    "    women_point.append(women_match_[i].text)\n",
    "women_point[:9]"
   ]
  },
  {
   "cell_type": "code",
   "execution_count": 2480,
   "metadata": {},
   "outputs": [
    {
     "data": {
      "text/plain": [
       "[<td class=\"table-body__cell u-text-right rating\">118</td>,\n",
       " <td class=\"table-body__cell u-text-right rating\">117</td>,\n",
       " <td class=\"table-body__cell u-text-right rating\">111</td>,\n",
       " <td class=\"table-body__cell u-text-right rating\">93</td>,\n",
       " <td class=\"table-body__cell u-text-right rating\">85</td>,\n",
       " <td class=\"table-body__cell u-text-right rating\">73</td>,\n",
       " <td class=\"table-body__cell u-text-right rating\">61</td>,\n",
       " <td class=\"table-body__cell u-text-right rating\">47</td>,\n",
       " <td class=\"table-body__cell u-text-right rating\">13</td>]"
      ]
     },
     "execution_count": 2480,
     "metadata": {},
     "output_type": "execute_result"
    }
   ],
   "source": [
    "women_rating_=soup.find_all('td', class_='table-body__cell u-text-right rating')\n",
    "women_rating_"
   ]
  },
  {
   "cell_type": "code",
   "execution_count": 2481,
   "metadata": {},
   "outputs": [
    {
     "data": {
      "text/plain": [
       "['118', '117', '111', '93', '85', '73', '61', '47', '13']"
      ]
     },
     "execution_count": 2481,
     "metadata": {},
     "output_type": "execute_result"
    }
   ],
   "source": [
    "for i in women_rating_:\n",
    "    women_rating.append(i.text.replace(\"\\n\",\" \"))\n",
    "women_rating"
   ]
  },
  {
   "cell_type": "code",
   "execution_count": 2482,
   "metadata": {},
   "outputs": [
    {
     "name": "stdout",
     "output_type": "stream",
     "text": [
      "9 9 15 9\n"
     ]
    }
   ],
   "source": [
    "print(len(women_match),len(women_point),len(women_team),len(women_rating))"
   ]
  },
  {
   "cell_type": "code",
   "execution_count": null,
   "metadata": {},
   "outputs": [],
   "source": []
  },
  {
   "cell_type": "code",
   "execution_count": 2483,
   "metadata": {},
   "outputs": [
    {
     "data": {
      "text/html": [
       "<div>\n",
       "<style scoped>\n",
       "    .dataframe tbody tr th:only-of-type {\n",
       "        vertical-align: middle;\n",
       "    }\n",
       "\n",
       "    .dataframe tbody tr th {\n",
       "        vertical-align: top;\n",
       "    }\n",
       "\n",
       "    .dataframe thead th {\n",
       "        text-align: right;\n",
       "    }\n",
       "</style>\n",
       "<table border=\"1\" class=\"dataframe\">\n",
       "  <thead>\n",
       "    <tr style=\"text-align: right;\">\n",
       "      <th></th>\n",
       "      <th>Team</th>\n",
       "      <th>Matches</th>\n",
       "      <th>Points</th>\n",
       "      <th>Ratings</th>\n",
       "    </tr>\n",
       "  </thead>\n",
       "  <tbody>\n",
       "    <tr>\n",
       "      <th>0</th>\n",
       "      <td>South Africa</td>\n",
       "      <td>24</td>\n",
       "      <td>2,828</td>\n",
       "      <td>118</td>\n",
       "    </tr>\n",
       "    <tr>\n",
       "      <th>1</th>\n",
       "      <td>England</td>\n",
       "      <td>17</td>\n",
       "      <td>1,993</td>\n",
       "      <td>117</td>\n",
       "    </tr>\n",
       "    <tr>\n",
       "      <th>2</th>\n",
       "      <td>India</td>\n",
       "      <td>20</td>\n",
       "      <td>2,226</td>\n",
       "      <td>111</td>\n",
       "    </tr>\n",
       "    <tr>\n",
       "      <th>3</th>\n",
       "      <td>New Zealand</td>\n",
       "      <td>21</td>\n",
       "      <td>1,947</td>\n",
       "      <td>93</td>\n",
       "    </tr>\n",
       "    <tr>\n",
       "      <th>4</th>\n",
       "      <td>West Indies</td>\n",
       "      <td>12</td>\n",
       "      <td>1,025</td>\n",
       "      <td>85</td>\n",
       "    </tr>\n",
       "    <tr>\n",
       "      <th>5</th>\n",
       "      <td>Pakistan</td>\n",
       "      <td>15</td>\n",
       "      <td>1,101</td>\n",
       "      <td>73</td>\n",
       "    </tr>\n",
       "    <tr>\n",
       "      <th>6</th>\n",
       "      <td>Bangladesh</td>\n",
       "      <td>5</td>\n",
       "      <td>306</td>\n",
       "      <td>61</td>\n",
       "    </tr>\n",
       "    <tr>\n",
       "      <th>7</th>\n",
       "      <td>Sri Lanka</td>\n",
       "      <td>11</td>\n",
       "      <td>519</td>\n",
       "      <td>47</td>\n",
       "    </tr>\n",
       "    <tr>\n",
       "      <th>8</th>\n",
       "      <td>Ireland</td>\n",
       "      <td>2</td>\n",
       "      <td>25</td>\n",
       "      <td>13</td>\n",
       "    </tr>\n",
       "  </tbody>\n",
       "</table>\n",
       "</div>"
      ],
      "text/plain": [
       "           Team Matches Points Ratings\n",
       "0  South Africa      24  2,828     118\n",
       "1       England      17  1,993     117\n",
       "2         India      20  2,226     111\n",
       "3   New Zealand      21  1,947      93\n",
       "4   West Indies      12  1,025      85\n",
       "5      Pakistan      15  1,101      73\n",
       "6    Bangladesh       5    306      61\n",
       "7     Sri Lanka      11    519      47\n",
       "8       Ireland       2     25      13"
      ]
     },
     "execution_count": 2483,
     "metadata": {},
     "output_type": "execute_result"
    }
   ],
   "source": [
    "women_top_10_=pd.DataFrame({\"Team\":women_team[1:10],\"Matches\":women_match[0:10],\"Points\":women_point[0:10],\"Ratings\":women_rating})\n",
    "women_top_10_"
   ]
  },
  {
   "cell_type": "code",
   "execution_count": 2484,
   "metadata": {},
   "outputs": [],
   "source": [
    "women_team_banner=[]\n",
    "women_match_banner=[]\n",
    "women_point_banner=[]\n",
    "women_rating_banner=[]"
   ]
  },
  {
   "cell_type": "code",
   "execution_count": 2485,
   "metadata": {},
   "outputs": [
    {
     "data": {
      "text/plain": [
       "[<span class=\"u-hide-phablet\">Australia</span>,\n",
       " <span class=\"u-hide-phablet\">South Africa</span>,\n",
       " <span class=\"u-hide-phablet\">England</span>,\n",
       " <span class=\"u-hide-phablet\">India</span>,\n",
       " <span class=\"u-hide-phablet\">New Zealand</span>,\n",
       " <span class=\"u-hide-phablet\">West Indies</span>,\n",
       " <span class=\"u-hide-phablet\">Pakistan</span>,\n",
       " <span class=\"u-hide-phablet\">Bangladesh</span>,\n",
       " <span class=\"u-hide-phablet\">Sri Lanka</span>,\n",
       " <span class=\"u-hide-phablet\">Ireland</span>,\n",
       " <span class=\"icn icn-facebook-circle u-hide-phablet\"></span>,\n",
       " <span class=\"icn icn-twitter-circle u-hide-phablet\"></span>,\n",
       " <span class=\"icn icn-instagram-circle u-hide-phablet\"></span>,\n",
       " <span class=\"icn icn-youtube-circle u-hide-phablet\"></span>,\n",
       " <span class=\"icn icn-tiktok-circle u-hide-phablet\"></span>]"
      ]
     },
     "execution_count": 2485,
     "metadata": {},
     "output_type": "execute_result"
    }
   ],
   "source": [
    "women_team_banner_=soup.find_all('span' ,class_=\"u-hide-phablet\")\n",
    "women_team_banner_"
   ]
  },
  {
   "cell_type": "code",
   "execution_count": 2486,
   "metadata": {},
   "outputs": [
    {
     "data": {
      "text/plain": [
       "['Australia']"
      ]
     },
     "execution_count": 2486,
     "metadata": {},
     "output_type": "execute_result"
    }
   ],
   "source": [
    "for i in women_team_banner_:\n",
    "     women_team_banner.append(i.text.replace(\"\\n\",\" \"))\n",
    "women_team_banner[:1]"
   ]
  },
  {
   "cell_type": "code",
   "execution_count": 2487,
   "metadata": {},
   "outputs": [
    {
     "data": {
      "text/plain": [
       "[<td class=\"rankings-block__banner--matches\">18</td>]"
      ]
     },
     "execution_count": 2487,
     "metadata": {},
     "output_type": "execute_result"
    }
   ],
   "source": [
    "women_match_banner_=soup.find_all('td', class_=\"rankings-block__banner--matches\")\n",
    "women_match_banner_"
   ]
  },
  {
   "cell_type": "code",
   "execution_count": 2488,
   "metadata": {},
   "outputs": [
    {
     "data": {
      "text/plain": [
       "['18']"
      ]
     },
     "execution_count": 2488,
     "metadata": {},
     "output_type": "execute_result"
    }
   ],
   "source": [
    "for i in women_match_banner_:\n",
    "    women_match_banner.append(i.text.replace(\"\\n\",\" \"))\n",
    "women_match_banner"
   ]
  },
  {
   "cell_type": "code",
   "execution_count": 2489,
   "metadata": {},
   "outputs": [
    {
     "data": {
      "text/plain": [
       "[<td class=\"rankings-block__banner--points\">2,955</td>]"
      ]
     },
     "execution_count": 2489,
     "metadata": {},
     "output_type": "execute_result"
    }
   ],
   "source": [
    "women_point_banner_=soup.find_all('td' ,class_=\"rankings-block__banner--points\")\n",
    "women_point_banner_"
   ]
  },
  {
   "cell_type": "code",
   "execution_count": 2490,
   "metadata": {},
   "outputs": [
    {
     "data": {
      "text/plain": [
       "['2,955']"
      ]
     },
     "execution_count": 2490,
     "metadata": {},
     "output_type": "execute_result"
    }
   ],
   "source": [
    "for i in women_point_banner_:\n",
    "    women_point_banner.append(i.text.replace(\"\\n\",\" \"))\n",
    "women_point_banner"
   ]
  },
  {
   "cell_type": "code",
   "execution_count": 2491,
   "metadata": {},
   "outputs": [
    {
     "data": {
      "text/plain": [
       "[<td class=\"rankings-block__banner--rating u-text-right\">\n",
       "                             164\n",
       "                             <span class=\"circle-branding circle-branding--top\"></span>\n",
       " <span class=\"circle-branding circle-branding--bottom\"></span>\n",
       " </td>]"
      ]
     },
     "execution_count": 2491,
     "metadata": {},
     "output_type": "execute_result"
    }
   ],
   "source": [
    "women_rating_banner_=soup.find_all('td',class_ =\"rankings-block__banner--rating u-text-right\")\n",
    "women_rating_banner_"
   ]
  },
  {
   "cell_type": "code",
   "execution_count": 2492,
   "metadata": {},
   "outputs": [
    {
     "data": {
      "text/plain": [
       "['164']"
      ]
     },
     "execution_count": 2492,
     "metadata": {},
     "output_type": "execute_result"
    }
   ],
   "source": [
    "for i in women_rating_banner_:\n",
    "    women_rating_banner.append(i.text.replace(\"\\n\",\" \").replace(\" \",\"\"))\n",
    "\n",
    "women_rating_banner"
   ]
  },
  {
   "cell_type": "code",
   "execution_count": 2493,
   "metadata": {},
   "outputs": [],
   "source": [
    "banner_=pd.DataFrame({\"Team\":women_team_banner[:1],\"Matches\":women_match_banner,\"Points\":women_point_banner,\"Ratings\":women_rating_banner})"
   ]
  },
  {
   "cell_type": "code",
   "execution_count": 2494,
   "metadata": {},
   "outputs": [
    {
     "data": {
      "text/html": [
       "<div>\n",
       "<style scoped>\n",
       "    .dataframe tbody tr th:only-of-type {\n",
       "        vertical-align: middle;\n",
       "    }\n",
       "\n",
       "    .dataframe tbody tr th {\n",
       "        vertical-align: top;\n",
       "    }\n",
       "\n",
       "    .dataframe thead th {\n",
       "        text-align: right;\n",
       "    }\n",
       "</style>\n",
       "<table border=\"1\" class=\"dataframe\">\n",
       "  <thead>\n",
       "    <tr style=\"text-align: right;\">\n",
       "      <th></th>\n",
       "      <th>Team</th>\n",
       "      <th>Matches</th>\n",
       "      <th>Points</th>\n",
       "      <th>Ratings</th>\n",
       "    </tr>\n",
       "  </thead>\n",
       "  <tbody>\n",
       "    <tr>\n",
       "      <th>0</th>\n",
       "      <td>Australia</td>\n",
       "      <td>18</td>\n",
       "      <td>2,955</td>\n",
       "      <td>164</td>\n",
       "    </tr>\n",
       "  </tbody>\n",
       "</table>\n",
       "</div>"
      ],
      "text/plain": [
       "        Team Matches Points Ratings\n",
       "0  Australia      18  2,955     164"
      ]
     },
     "execution_count": 2494,
     "metadata": {},
     "output_type": "execute_result"
    }
   ],
   "source": [
    "banner_"
   ]
  },
  {
   "cell_type": "code",
   "execution_count": 2495,
   "metadata": {},
   "outputs": [
    {
     "data": {
      "text/html": [
       "<div>\n",
       "<style scoped>\n",
       "    .dataframe tbody tr th:only-of-type {\n",
       "        vertical-align: middle;\n",
       "    }\n",
       "\n",
       "    .dataframe tbody tr th {\n",
       "        vertical-align: top;\n",
       "    }\n",
       "\n",
       "    .dataframe thead th {\n",
       "        text-align: right;\n",
       "    }\n",
       "</style>\n",
       "<table border=\"1\" class=\"dataframe\">\n",
       "  <thead>\n",
       "    <tr style=\"text-align: right;\">\n",
       "      <th></th>\n",
       "      <th>Team</th>\n",
       "      <th>Matches</th>\n",
       "      <th>Points</th>\n",
       "      <th>Ratings</th>\n",
       "    </tr>\n",
       "  </thead>\n",
       "  <tbody>\n",
       "    <tr>\n",
       "      <th>0</th>\n",
       "      <td>Australia</td>\n",
       "      <td>18</td>\n",
       "      <td>2,955</td>\n",
       "      <td>164</td>\n",
       "    </tr>\n",
       "    <tr>\n",
       "      <th>1</th>\n",
       "      <td>South Africa</td>\n",
       "      <td>24</td>\n",
       "      <td>2,828</td>\n",
       "      <td>118</td>\n",
       "    </tr>\n",
       "    <tr>\n",
       "      <th>2</th>\n",
       "      <td>England</td>\n",
       "      <td>17</td>\n",
       "      <td>1,993</td>\n",
       "      <td>117</td>\n",
       "    </tr>\n",
       "    <tr>\n",
       "      <th>3</th>\n",
       "      <td>India</td>\n",
       "      <td>20</td>\n",
       "      <td>2,226</td>\n",
       "      <td>111</td>\n",
       "    </tr>\n",
       "    <tr>\n",
       "      <th>4</th>\n",
       "      <td>New Zealand</td>\n",
       "      <td>21</td>\n",
       "      <td>1,947</td>\n",
       "      <td>93</td>\n",
       "    </tr>\n",
       "    <tr>\n",
       "      <th>5</th>\n",
       "      <td>West Indies</td>\n",
       "      <td>12</td>\n",
       "      <td>1,025</td>\n",
       "      <td>85</td>\n",
       "    </tr>\n",
       "    <tr>\n",
       "      <th>6</th>\n",
       "      <td>Pakistan</td>\n",
       "      <td>15</td>\n",
       "      <td>1,101</td>\n",
       "      <td>73</td>\n",
       "    </tr>\n",
       "    <tr>\n",
       "      <th>7</th>\n",
       "      <td>Bangladesh</td>\n",
       "      <td>5</td>\n",
       "      <td>306</td>\n",
       "      <td>61</td>\n",
       "    </tr>\n",
       "    <tr>\n",
       "      <th>8</th>\n",
       "      <td>Sri Lanka</td>\n",
       "      <td>11</td>\n",
       "      <td>519</td>\n",
       "      <td>47</td>\n",
       "    </tr>\n",
       "    <tr>\n",
       "      <th>9</th>\n",
       "      <td>Ireland</td>\n",
       "      <td>2</td>\n",
       "      <td>25</td>\n",
       "      <td>13</td>\n",
       "    </tr>\n",
       "  </tbody>\n",
       "</table>\n",
       "</div>"
      ],
      "text/plain": [
       "           Team Matches Points Ratings\n",
       "0     Australia      18  2,955     164\n",
       "1  South Africa      24  2,828     118\n",
       "2       England      17  1,993     117\n",
       "3         India      20  2,226     111\n",
       "4   New Zealand      21  1,947      93\n",
       "5   West Indies      12  1,025      85\n",
       "6      Pakistan      15  1,101      73\n",
       "7    Bangladesh       5    306      61\n",
       "8     Sri Lanka      11    519      47\n",
       "9       Ireland       2     25      13"
      ]
     },
     "execution_count": 2495,
     "metadata": {},
     "output_type": "execute_result"
    }
   ],
   "source": [
    "women_top_10=banner_.append(women_top_10_,ignore_index=True)\n",
    "women_top_10"
   ]
  },
  {
   "cell_type": "markdown",
   "metadata": {},
   "source": [
    "# ii. Top 10 women’s ODI players along with the records of their team and rating."
   ]
  },
  {
   "cell_type": "code",
   "execution_count": 2496,
   "metadata": {},
   "outputs": [
    {
     "data": {
      "text/plain": [
       "<Response [200]>"
      ]
     },
     "execution_count": 2496,
     "metadata": {},
     "output_type": "execute_result"
    }
   ],
   "source": [
    "url=requests.get(\"https://www.icc-cricket.com/rankings/womens/player-rankings/odi/batting\")\n",
    "url"
   ]
  },
  {
   "cell_type": "code",
   "execution_count": 2497,
   "metadata": {},
   "outputs": [],
   "source": [
    "#url.content"
   ]
  },
  {
   "cell_type": "code",
   "execution_count": 2498,
   "metadata": {},
   "outputs": [],
   "source": [
    "soup=BeautifulSoup(url.content)\n",
    "#soup"
   ]
  },
  {
   "cell_type": "code",
   "execution_count": 2499,
   "metadata": {},
   "outputs": [],
   "source": [
    "#print(soup.prettify)"
   ]
  },
  {
   "cell_type": "code",
   "execution_count": 2500,
   "metadata": {},
   "outputs": [],
   "source": [
    "women_player=[]\n",
    "women_team=[]\n",
    "women_rating=[]"
   ]
  },
  {
   "cell_type": "code",
   "execution_count": 2501,
   "metadata": {},
   "outputs": [
    {
     "data": {
      "text/plain": [
       "[<td class=\"table-body__cell rankings-table__name name\">\n",
       " <a href=\"/rankings/womens/player-rankings/1785\">Lizelle Lee</a>\n",
       " </td>,\n",
       " <td class=\"table-body__cell rankings-table__name name\">\n",
       " <a href=\"/rankings/womens/player-rankings/466\">Alyssa Healy</a>\n",
       " </td>,\n",
       " <td class=\"table-body__cell rankings-table__name name\">\n",
       " <a href=\"/rankings/womens/player-rankings/573\">Stafanie Taylor</a>\n",
       " </td>,\n",
       " <td class=\"table-body__cell rankings-table__name name\">\n",
       " <a href=\"/rankings/womens/player-rankings/469\">Meg Lanning</a>\n",
       " </td>,\n",
       " <td class=\"table-body__cell rankings-table__name name\">\n",
       " <a href=\"/rankings/womens/player-rankings/487\">Amy Satterthwaite</a>\n",
       " </td>,\n",
       " <td class=\"table-body__cell rankings-table__name name\">\n",
       " <a href=\"/rankings/womens/player-rankings/1809\">Smriti Mandhana</a>\n",
       " </td>,\n",
       " <td class=\"table-body__cell rankings-table__name name\">\n",
       " <a href=\"/rankings/womens/player-rankings/558\">Mithali Raj</a>\n",
       " </td>,\n",
       " <td class=\"table-body__cell rankings-table__name name\">\n",
       " <a href=\"/rankings/womens/player-rankings/1800\">Natalie Sciver</a>\n",
       " </td>,\n",
       " <td class=\"table-body__cell rankings-table__name name\">\n",
       " <a href=\"/rankings/womens/player-rankings/3176\">Laura Wolvaardt</a>\n",
       " </td>,\n",
       " <td class=\"table-body__cell rankings-table__name name\">\n",
       " <a href=\"/rankings/womens/player-rankings/471\">Ellyse Perry</a>\n",
       " </td>]"
      ]
     },
     "execution_count": 2501,
     "metadata": {},
     "output_type": "execute_result"
    }
   ],
   "source": [
    "women_player_=soup.find_all('td', class_='table-body__cell rankings-table__name name')\n",
    "women_player_ [:10]                          \n",
    "                            "
   ]
  },
  {
   "cell_type": "code",
   "execution_count": 2502,
   "metadata": {},
   "outputs": [
    {
     "data": {
      "text/plain": [
       "[' Lizelle Lee ',\n",
       " ' Alyssa Healy ',\n",
       " ' Stafanie Taylor ',\n",
       " ' Meg Lanning ',\n",
       " ' Amy Satterthwaite ',\n",
       " ' Smriti Mandhana ',\n",
       " ' Mithali Raj ',\n",
       " ' Natalie Sciver ',\n",
       " ' Laura Wolvaardt ']"
      ]
     },
     "execution_count": 2502,
     "metadata": {},
     "output_type": "execute_result"
    }
   ],
   "source": [
    "for i in women_player_:\n",
    "    women_player.append(i.text.replace(\"\\n\",\" \"))\n",
    "women_player[:9]"
   ]
  },
  {
   "cell_type": "code",
   "execution_count": 2503,
   "metadata": {},
   "outputs": [
    {
     "data": {
      "text/plain": [
       "[<span class=\"table-body__logo-text\">SA</span>,\n",
       " <span class=\"table-body__logo-text\">AUS</span>,\n",
       " <span class=\"table-body__logo-text\">WI</span>,\n",
       " <span class=\"table-body__logo-text\">AUS</span>,\n",
       " <span class=\"table-body__logo-text\">NZ</span>,\n",
       " <span class=\"table-body__logo-text\">IND</span>,\n",
       " <span class=\"table-body__logo-text\">IND</span>,\n",
       " <span class=\"table-body__logo-text\">ENG</span>,\n",
       " <span class=\"table-body__logo-text\">SA</span>]"
      ]
     },
     "execution_count": 2503,
     "metadata": {},
     "output_type": "execute_result"
    }
   ],
   "source": [
    "women_team_=soup.find_all('span', class_=\"table-body__logo-text\")\n",
    "women_team_[:9]"
   ]
  },
  {
   "cell_type": "code",
   "execution_count": 2504,
   "metadata": {},
   "outputs": [
    {
     "data": {
      "text/plain": [
       "['SA', 'AUS', 'WI', 'AUS', 'NZ', 'IND', 'IND', 'ENG', 'SA']"
      ]
     },
     "execution_count": 2504,
     "metadata": {},
     "output_type": "execute_result"
    }
   ],
   "source": [
    "for i in women_team_:\n",
    "    women_team.append(i.text.replace(\"\\n\",\" \"))\n",
    "women_team[:9]"
   ]
  },
  {
   "cell_type": "code",
   "execution_count": 2505,
   "metadata": {},
   "outputs": [
    {
     "data": {
      "text/plain": [
       "[<td class=\"table-body__cell rating\">758</td>,\n",
       " <td class=\"table-body__cell rating\">756</td>,\n",
       " <td class=\"table-body__cell rating\">746</td>,\n",
       " <td class=\"table-body__cell rating\">723</td>,\n",
       " <td class=\"table-body__cell rating\">715</td>,\n",
       " <td class=\"table-body__cell rating\">710</td>,\n",
       " <td class=\"table-body__cell rating\">709</td>,\n",
       " <td class=\"table-body__cell rating\">685</td>,\n",
       " <td class=\"table-body__cell rating\">683</td>]"
      ]
     },
     "execution_count": 2505,
     "metadata": {},
     "output_type": "execute_result"
    }
   ],
   "source": [
    "women_rating_=soup.find_all('td' ,class_=\"table-body__cell rating\")\n",
    "women_rating_[:9]"
   ]
  },
  {
   "cell_type": "code",
   "execution_count": 2506,
   "metadata": {},
   "outputs": [
    {
     "data": {
      "text/plain": [
       "['758', '756', '746', '723', '715', '710', '709', '685', '683']"
      ]
     },
     "execution_count": 2506,
     "metadata": {},
     "output_type": "execute_result"
    }
   ],
   "source": [
    "for i in women_rating_:\n",
    "    women_rating.append(i.text.replace(\"\\n\",\" \"))\n",
    "women_rating[:9]"
   ]
  },
  {
   "cell_type": "code",
   "execution_count": 2507,
   "metadata": {},
   "outputs": [
    {
     "data": {
      "text/html": [
       "<div>\n",
       "<style scoped>\n",
       "    .dataframe tbody tr th:only-of-type {\n",
       "        vertical-align: middle;\n",
       "    }\n",
       "\n",
       "    .dataframe tbody tr th {\n",
       "        vertical-align: top;\n",
       "    }\n",
       "\n",
       "    .dataframe thead th {\n",
       "        text-align: right;\n",
       "    }\n",
       "</style>\n",
       "<table border=\"1\" class=\"dataframe\">\n",
       "  <thead>\n",
       "    <tr style=\"text-align: right;\">\n",
       "      <th></th>\n",
       "      <th>Player</th>\n",
       "      <th>Team</th>\n",
       "      <th>Rating</th>\n",
       "    </tr>\n",
       "  </thead>\n",
       "  <tbody>\n",
       "    <tr>\n",
       "      <th>0</th>\n",
       "      <td>Lizelle Lee</td>\n",
       "      <td>SA</td>\n",
       "      <td>758</td>\n",
       "    </tr>\n",
       "    <tr>\n",
       "      <th>1</th>\n",
       "      <td>Alyssa Healy</td>\n",
       "      <td>AUS</td>\n",
       "      <td>756</td>\n",
       "    </tr>\n",
       "    <tr>\n",
       "      <th>2</th>\n",
       "      <td>Stafanie Taylor</td>\n",
       "      <td>WI</td>\n",
       "      <td>746</td>\n",
       "    </tr>\n",
       "    <tr>\n",
       "      <th>3</th>\n",
       "      <td>Meg Lanning</td>\n",
       "      <td>AUS</td>\n",
       "      <td>723</td>\n",
       "    </tr>\n",
       "    <tr>\n",
       "      <th>4</th>\n",
       "      <td>Amy Satterthwaite</td>\n",
       "      <td>NZ</td>\n",
       "      <td>715</td>\n",
       "    </tr>\n",
       "    <tr>\n",
       "      <th>5</th>\n",
       "      <td>Smriti Mandhana</td>\n",
       "      <td>IND</td>\n",
       "      <td>710</td>\n",
       "    </tr>\n",
       "    <tr>\n",
       "      <th>6</th>\n",
       "      <td>Mithali Raj</td>\n",
       "      <td>IND</td>\n",
       "      <td>709</td>\n",
       "    </tr>\n",
       "    <tr>\n",
       "      <th>7</th>\n",
       "      <td>Natalie Sciver</td>\n",
       "      <td>ENG</td>\n",
       "      <td>685</td>\n",
       "    </tr>\n",
       "    <tr>\n",
       "      <th>8</th>\n",
       "      <td>Laura Wolvaardt</td>\n",
       "      <td>SA</td>\n",
       "      <td>683</td>\n",
       "    </tr>\n",
       "  </tbody>\n",
       "</table>\n",
       "</div>"
      ],
      "text/plain": [
       "                Player Team Rating\n",
       "0         Lizelle Lee    SA    758\n",
       "1        Alyssa Healy   AUS    756\n",
       "2     Stafanie Taylor    WI    746\n",
       "3         Meg Lanning   AUS    723\n",
       "4   Amy Satterthwaite    NZ    715\n",
       "5     Smriti Mandhana   IND    710\n",
       "6         Mithali Raj   IND    709\n",
       "7      Natalie Sciver   ENG    685\n",
       "8     Laura Wolvaardt    SA    683"
      ]
     },
     "execution_count": 2507,
     "metadata": {},
     "output_type": "execute_result"
    }
   ],
   "source": [
    "women_top=pd.DataFrame({\"Player\":women_player[0:9],\"Team\":women_team[0:9],\"Rating\":women_rating[0:9]})\n",
    "women_top"
   ]
  },
  {
   "cell_type": "code",
   "execution_count": 2508,
   "metadata": {},
   "outputs": [],
   "source": [
    "w_player_banner=[]\n",
    "w_team_banner=[]\n",
    "w_rating_banner=[]"
   ]
  },
  {
   "cell_type": "code",
   "execution_count": 2509,
   "metadata": {},
   "outputs": [
    {
     "data": {
      "text/plain": [
       "[<div class=\"rankings-block__banner--name-large\">Tammy Beaumont</div>]"
      ]
     },
     "execution_count": 2509,
     "metadata": {},
     "output_type": "execute_result"
    }
   ],
   "source": [
    "w_player_banner_=soup.find_all(\"div\" ,class_=\"rankings-block__banner--name-large\")\n",
    "w_player_banner_"
   ]
  },
  {
   "cell_type": "code",
   "execution_count": 2510,
   "metadata": {},
   "outputs": [
    {
     "data": {
      "text/plain": [
       "['Tammy Beaumont']"
      ]
     },
     "execution_count": 2510,
     "metadata": {},
     "output_type": "execute_result"
    }
   ],
   "source": [
    "for i in w_player_banner_:\n",
    "    w_player_banner.append(i.text.replace(\"\\n\",\" \"))\n",
    "w_player_banner"
   ]
  },
  {
   "cell_type": "code",
   "execution_count": 2511,
   "metadata": {},
   "outputs": [
    {
     "data": {
      "text/plain": [
       "[<div class=\"rankings-block__banner--nationality\">\n",
       " <div class=\"flag-15 ENG\"></div>\n",
       " <span class=\"rankings-block__banner--nation\"></span>ENG\n",
       "                     </div>]"
      ]
     },
     "execution_count": 2511,
     "metadata": {},
     "output_type": "execute_result"
    }
   ],
   "source": [
    "w_team_banner_=soup.find_all(\"div\" ,class_=\"rankings-block__banner--nationality\")\n",
    "w_team_banner_"
   ]
  },
  {
   "cell_type": "code",
   "execution_count": 2512,
   "metadata": {},
   "outputs": [
    {
     "data": {
      "text/plain": [
       "['ENG']"
      ]
     },
     "execution_count": 2512,
     "metadata": {},
     "output_type": "execute_result"
    }
   ],
   "source": [
    "for i in w_team_banner_:\n",
    "    w_team_banner.append(i.text.strip())\n",
    "w_team_banner[:1]"
   ]
  },
  {
   "cell_type": "code",
   "execution_count": 2513,
   "metadata": {},
   "outputs": [
    {
     "data": {
      "text/plain": [
       "[<div class=\"rankings-block__banner--rating\">765</div>]"
      ]
     },
     "execution_count": 2513,
     "metadata": {},
     "output_type": "execute_result"
    }
   ],
   "source": [
    "w_rating_banner_=soup.find_all('div' ,class_=\"rankings-block__banner--rating\")\n",
    "w_rating_banner_"
   ]
  },
  {
   "cell_type": "code",
   "execution_count": 2514,
   "metadata": {},
   "outputs": [
    {
     "data": {
      "text/plain": [
       "['765']"
      ]
     },
     "execution_count": 2514,
     "metadata": {},
     "output_type": "execute_result"
    }
   ],
   "source": [
    "for i in w_rating_banner_:\n",
    "    w_rating_banner.append(i.text.replace(\"\\n\",\" \"))\n",
    "w_rating_banner"
   ]
  },
  {
   "cell_type": "code",
   "execution_count": 2515,
   "metadata": {},
   "outputs": [
    {
     "name": "stdout",
     "output_type": "stream",
     "text": [
      "1 1 1\n"
     ]
    }
   ],
   "source": [
    "print(len(w_player_banner),len(w_team_banner),len(w_rating_banner))"
   ]
  },
  {
   "cell_type": "code",
   "execution_count": 2516,
   "metadata": {},
   "outputs": [
    {
     "data": {
      "text/html": [
       "<div>\n",
       "<style scoped>\n",
       "    .dataframe tbody tr th:only-of-type {\n",
       "        vertical-align: middle;\n",
       "    }\n",
       "\n",
       "    .dataframe tbody tr th {\n",
       "        vertical-align: top;\n",
       "    }\n",
       "\n",
       "    .dataframe thead th {\n",
       "        text-align: right;\n",
       "    }\n",
       "</style>\n",
       "<table border=\"1\" class=\"dataframe\">\n",
       "  <thead>\n",
       "    <tr style=\"text-align: right;\">\n",
       "      <th></th>\n",
       "      <th>Player</th>\n",
       "      <th>Team</th>\n",
       "      <th>Rating</th>\n",
       "    </tr>\n",
       "  </thead>\n",
       "  <tbody>\n",
       "    <tr>\n",
       "      <th>0</th>\n",
       "      <td>Tammy Beaumont</td>\n",
       "      <td>ENG</td>\n",
       "      <td>765</td>\n",
       "    </tr>\n",
       "  </tbody>\n",
       "</table>\n",
       "</div>"
      ],
      "text/plain": [
       "           Player Team Rating\n",
       "0  Tammy Beaumont  ENG    765"
      ]
     },
     "execution_count": 2516,
     "metadata": {},
     "output_type": "execute_result"
    }
   ],
   "source": [
    "w_banner=pd.DataFrame({\"Player\":w_player_banner,\"Team\":w_team_banner[:1],\"Rating\":w_rating_banner})\n",
    "w_banner"
   ]
  },
  {
   "cell_type": "code",
   "execution_count": 2517,
   "metadata": {},
   "outputs": [
    {
     "data": {
      "text/html": [
       "<div>\n",
       "<style scoped>\n",
       "    .dataframe tbody tr th:only-of-type {\n",
       "        vertical-align: middle;\n",
       "    }\n",
       "\n",
       "    .dataframe tbody tr th {\n",
       "        vertical-align: top;\n",
       "    }\n",
       "\n",
       "    .dataframe thead th {\n",
       "        text-align: right;\n",
       "    }\n",
       "</style>\n",
       "<table border=\"1\" class=\"dataframe\">\n",
       "  <thead>\n",
       "    <tr style=\"text-align: right;\">\n",
       "      <th></th>\n",
       "      <th>Player</th>\n",
       "      <th>Team</th>\n",
       "      <th>Rating</th>\n",
       "    </tr>\n",
       "  </thead>\n",
       "  <tbody>\n",
       "    <tr>\n",
       "      <th>0</th>\n",
       "      <td>Tammy Beaumont</td>\n",
       "      <td>ENG</td>\n",
       "      <td>765</td>\n",
       "    </tr>\n",
       "    <tr>\n",
       "      <th>1</th>\n",
       "      <td>Lizelle Lee</td>\n",
       "      <td>SA</td>\n",
       "      <td>758</td>\n",
       "    </tr>\n",
       "    <tr>\n",
       "      <th>2</th>\n",
       "      <td>Alyssa Healy</td>\n",
       "      <td>AUS</td>\n",
       "      <td>756</td>\n",
       "    </tr>\n",
       "    <tr>\n",
       "      <th>3</th>\n",
       "      <td>Stafanie Taylor</td>\n",
       "      <td>WI</td>\n",
       "      <td>746</td>\n",
       "    </tr>\n",
       "    <tr>\n",
       "      <th>4</th>\n",
       "      <td>Meg Lanning</td>\n",
       "      <td>AUS</td>\n",
       "      <td>723</td>\n",
       "    </tr>\n",
       "    <tr>\n",
       "      <th>5</th>\n",
       "      <td>Amy Satterthwaite</td>\n",
       "      <td>NZ</td>\n",
       "      <td>715</td>\n",
       "    </tr>\n",
       "    <tr>\n",
       "      <th>6</th>\n",
       "      <td>Smriti Mandhana</td>\n",
       "      <td>IND</td>\n",
       "      <td>710</td>\n",
       "    </tr>\n",
       "    <tr>\n",
       "      <th>7</th>\n",
       "      <td>Mithali Raj</td>\n",
       "      <td>IND</td>\n",
       "      <td>709</td>\n",
       "    </tr>\n",
       "    <tr>\n",
       "      <th>8</th>\n",
       "      <td>Natalie Sciver</td>\n",
       "      <td>ENG</td>\n",
       "      <td>685</td>\n",
       "    </tr>\n",
       "    <tr>\n",
       "      <th>9</th>\n",
       "      <td>Laura Wolvaardt</td>\n",
       "      <td>SA</td>\n",
       "      <td>683</td>\n",
       "    </tr>\n",
       "  </tbody>\n",
       "</table>\n",
       "</div>"
      ],
      "text/plain": [
       "                Player Team Rating\n",
       "0       Tammy Beaumont  ENG    765\n",
       "1         Lizelle Lee    SA    758\n",
       "2        Alyssa Healy   AUS    756\n",
       "3     Stafanie Taylor    WI    746\n",
       "4         Meg Lanning   AUS    723\n",
       "5   Amy Satterthwaite    NZ    715\n",
       "6     Smriti Mandhana   IND    710\n",
       "7         Mithali Raj   IND    709\n",
       "8      Natalie Sciver   ENG    685\n",
       "9     Laura Wolvaardt    SA    683"
      ]
     },
     "execution_count": 2517,
     "metadata": {},
     "output_type": "execute_result"
    }
   ],
   "source": [
    "women_top_=w_banner.append(women_top,ignore_index=True)\n",
    "women_top_"
   ]
  },
  {
   "cell_type": "markdown",
   "metadata": {},
   "source": [
    "# iii. Top 10 women’s ODI all-rounder along with the records of their team and rating."
   ]
  },
  {
   "cell_type": "code",
   "execution_count": 2518,
   "metadata": {},
   "outputs": [
    {
     "data": {
      "text/plain": [
       "<Response [200]>"
      ]
     },
     "execution_count": 2518,
     "metadata": {},
     "output_type": "execute_result"
    }
   ],
   "source": [
    "url=requests.get(\"https://www.icc-cricket.com/rankings/womens/player-rankings/odi/all-rounder\")\n",
    "url"
   ]
  },
  {
   "cell_type": "code",
   "execution_count": 2519,
   "metadata": {},
   "outputs": [],
   "source": [
    "#url.content"
   ]
  },
  {
   "cell_type": "code",
   "execution_count": 2520,
   "metadata": {},
   "outputs": [],
   "source": [
    "soup=BeautifulSoup(url.content)\n",
    "#soup"
   ]
  },
  {
   "cell_type": "code",
   "execution_count": 2521,
   "metadata": {},
   "outputs": [],
   "source": [
    "#print(soup.prettify)"
   ]
  },
  {
   "cell_type": "code",
   "execution_count": 2522,
   "metadata": {},
   "outputs": [],
   "source": [
    "a_player=[]\n",
    "a_team=[]\n",
    "a_rating=[]"
   ]
  },
  {
   "cell_type": "code",
   "execution_count": 2523,
   "metadata": {},
   "outputs": [
    {
     "data": {
      "text/plain": [
       "[<td class=\"table-body__cell rankings-table__name name\">\n",
       " <a href=\"/rankings/womens/player-rankings/471\">Ellyse Perry</a>\n",
       " </td>,\n",
       " <td class=\"table-body__cell rankings-table__name name\">\n",
       " <a href=\"/rankings/womens/player-rankings/573\">Stafanie Taylor</a>\n",
       " </td>,\n",
       " <td class=\"table-body__cell rankings-table__name name\">\n",
       " <a href=\"/rankings/womens/player-rankings/1800\">Natalie Sciver</a>\n",
       " </td>,\n",
       " <td class=\"table-body__cell rankings-table__name name\">\n",
       " <a href=\"/rankings/womens/player-rankings/3192\">Deepti Sharma</a>\n",
       " </td>,\n",
       " <td class=\"table-body__cell rankings-table__name name\">\n",
       " <a href=\"/rankings/womens/player-rankings/468\">Jess Jonassen</a>\n",
       " </td>,\n",
       " <td class=\"table-body__cell rankings-table__name name\">\n",
       " <a href=\"/rankings/womens/player-rankings/4128\">Ashleigh Gardner</a>\n",
       " </td>,\n",
       " <td class=\"table-body__cell rankings-table__name name\">\n",
       " <a href=\"/rankings/womens/player-rankings/430\">Dane van Niekerk</a>\n",
       " </td>,\n",
       " <td class=\"table-body__cell rankings-table__name name\">\n",
       " <a href=\"/rankings/womens/player-rankings/478\">Sophie Devine</a>\n",
       " </td>,\n",
       " <td class=\"table-body__cell rankings-table__name name\">\n",
       " <a href=\"/rankings/womens/player-rankings/3756\">Amelia Kerr</a>\n",
       " </td>]"
      ]
     },
     "execution_count": 2523,
     "metadata": {},
     "output_type": "execute_result"
    }
   ],
   "source": [
    "a_player_=soup.find_all('td' ,class_=\"table-body__cell rankings-table__name name\")\n",
    "a_player_[:9]"
   ]
  },
  {
   "cell_type": "code",
   "execution_count": 2524,
   "metadata": {},
   "outputs": [
    {
     "data": {
      "text/plain": [
       "[' Ellyse Perry ',\n",
       " ' Stafanie Taylor ',\n",
       " ' Natalie Sciver ',\n",
       " ' Deepti Sharma ',\n",
       " ' Jess Jonassen ',\n",
       " ' Ashleigh Gardner ',\n",
       " ' Dane van Niekerk ',\n",
       " ' Sophie Devine ',\n",
       " ' Amelia Kerr ']"
      ]
     },
     "execution_count": 2524,
     "metadata": {},
     "output_type": "execute_result"
    }
   ],
   "source": [
    "for i in a_player_:\n",
    "    a_player.append(i.text.replace(\"\\n\",\" \"))\n",
    "a_player[:9]"
   ]
  },
  {
   "cell_type": "code",
   "execution_count": 2525,
   "metadata": {},
   "outputs": [
    {
     "data": {
      "text/plain": [
       "[<span class=\"table-body__logo-text\">AUS</span>,\n",
       " <span class=\"table-body__logo-text\">WI</span>,\n",
       " <span class=\"table-body__logo-text\">ENG</span>,\n",
       " <span class=\"table-body__logo-text\">IND</span>,\n",
       " <span class=\"table-body__logo-text\">AUS</span>,\n",
       " <span class=\"table-body__logo-text\">AUS</span>,\n",
       " <span class=\"table-body__logo-text\">SA</span>,\n",
       " <span class=\"table-body__logo-text\">NZ</span>,\n",
       " <span class=\"table-body__logo-text\">NZ</span>]"
      ]
     },
     "execution_count": 2525,
     "metadata": {},
     "output_type": "execute_result"
    }
   ],
   "source": [
    "a_team_=soup.find_all('span', class_=\"table-body__logo-text\")\n",
    "a_team_[:9]"
   ]
  },
  {
   "cell_type": "code",
   "execution_count": 2526,
   "metadata": {},
   "outputs": [
    {
     "data": {
      "text/plain": [
       "['AUS', 'WI', 'ENG', 'IND', 'AUS', 'AUS', 'SA', 'NZ', 'NZ']"
      ]
     },
     "execution_count": 2526,
     "metadata": {},
     "output_type": "execute_result"
    }
   ],
   "source": [
    "for i in a_team_:\n",
    "    a_team.append(i.text.replace(\"\\n\",\" \"))\n",
    "a_team[:9]"
   ]
  },
  {
   "cell_type": "code",
   "execution_count": 2527,
   "metadata": {},
   "outputs": [
    {
     "data": {
      "text/plain": [
       "[<td class=\"table-body__cell rating\">418</td>,\n",
       " <td class=\"table-body__cell rating\">410</td>,\n",
       " <td class=\"table-body__cell rating\">349</td>,\n",
       " <td class=\"table-body__cell rating\">343</td>,\n",
       " <td class=\"table-body__cell rating\">307</td>,\n",
       " <td class=\"table-body__cell rating\">252</td>,\n",
       " <td class=\"table-body__cell rating\">243</td>,\n",
       " <td class=\"table-body__cell rating\">242</td>,\n",
       " <td class=\"table-body__cell rating\">236</td>]"
      ]
     },
     "execution_count": 2527,
     "metadata": {},
     "output_type": "execute_result"
    }
   ],
   "source": [
    "a_rating_=soup.find_all('td' ,class_=\"table-body__cell rating\")\n",
    "a_rating_[:9]"
   ]
  },
  {
   "cell_type": "code",
   "execution_count": 2528,
   "metadata": {},
   "outputs": [
    {
     "data": {
      "text/plain": [
       "['418', '410', '349', '343', '307', '252', '243', '242', '236']"
      ]
     },
     "execution_count": 2528,
     "metadata": {},
     "output_type": "execute_result"
    }
   ],
   "source": [
    "for i in a_rating_:\n",
    "    a_rating.append(i.text.replace(\"\\n\",\" \"))\n",
    "a_rating[:9]"
   ]
  },
  {
   "cell_type": "code",
   "execution_count": 2529,
   "metadata": {},
   "outputs": [
    {
     "name": "stdout",
     "output_type": "stream",
     "text": [
      "19 19 19\n"
     ]
    }
   ],
   "source": [
    "print(len(a_player),len(a_team),len(a_rating))"
   ]
  },
  {
   "cell_type": "code",
   "execution_count": 2530,
   "metadata": {},
   "outputs": [
    {
     "data": {
      "text/html": [
       "<div>\n",
       "<style scoped>\n",
       "    .dataframe tbody tr th:only-of-type {\n",
       "        vertical-align: middle;\n",
       "    }\n",
       "\n",
       "    .dataframe tbody tr th {\n",
       "        vertical-align: top;\n",
       "    }\n",
       "\n",
       "    .dataframe thead th {\n",
       "        text-align: right;\n",
       "    }\n",
       "</style>\n",
       "<table border=\"1\" class=\"dataframe\">\n",
       "  <thead>\n",
       "    <tr style=\"text-align: right;\">\n",
       "      <th></th>\n",
       "      <th>Player</th>\n",
       "      <th>Team</th>\n",
       "      <th>Rating</th>\n",
       "    </tr>\n",
       "  </thead>\n",
       "  <tbody>\n",
       "    <tr>\n",
       "      <th>0</th>\n",
       "      <td>Ellyse Perry</td>\n",
       "      <td>AUS</td>\n",
       "      <td>418</td>\n",
       "    </tr>\n",
       "    <tr>\n",
       "      <th>1</th>\n",
       "      <td>Stafanie Taylor</td>\n",
       "      <td>WI</td>\n",
       "      <td>410</td>\n",
       "    </tr>\n",
       "    <tr>\n",
       "      <th>2</th>\n",
       "      <td>Natalie Sciver</td>\n",
       "      <td>ENG</td>\n",
       "      <td>349</td>\n",
       "    </tr>\n",
       "    <tr>\n",
       "      <th>3</th>\n",
       "      <td>Deepti Sharma</td>\n",
       "      <td>IND</td>\n",
       "      <td>343</td>\n",
       "    </tr>\n",
       "    <tr>\n",
       "      <th>4</th>\n",
       "      <td>Jess Jonassen</td>\n",
       "      <td>AUS</td>\n",
       "      <td>307</td>\n",
       "    </tr>\n",
       "    <tr>\n",
       "      <th>5</th>\n",
       "      <td>Ashleigh Gardner</td>\n",
       "      <td>AUS</td>\n",
       "      <td>252</td>\n",
       "    </tr>\n",
       "    <tr>\n",
       "      <th>6</th>\n",
       "      <td>Dane van Niekerk</td>\n",
       "      <td>SA</td>\n",
       "      <td>243</td>\n",
       "    </tr>\n",
       "    <tr>\n",
       "      <th>7</th>\n",
       "      <td>Sophie Devine</td>\n",
       "      <td>NZ</td>\n",
       "      <td>242</td>\n",
       "    </tr>\n",
       "    <tr>\n",
       "      <th>8</th>\n",
       "      <td>Amelia Kerr</td>\n",
       "      <td>NZ</td>\n",
       "      <td>236</td>\n",
       "    </tr>\n",
       "    <tr>\n",
       "      <th>9</th>\n",
       "      <td>Katherine Brunt</td>\n",
       "      <td>ENG</td>\n",
       "      <td>236</td>\n",
       "    </tr>\n",
       "    <tr>\n",
       "      <th>10</th>\n",
       "      <td>Shikha Pandey</td>\n",
       "      <td>IND</td>\n",
       "      <td>204</td>\n",
       "    </tr>\n",
       "    <tr>\n",
       "      <th>11</th>\n",
       "      <td>Jhulan Goswami</td>\n",
       "      <td>IND</td>\n",
       "      <td>200</td>\n",
       "    </tr>\n",
       "    <tr>\n",
       "      <th>12</th>\n",
       "      <td>Heather Knight</td>\n",
       "      <td>ENG</td>\n",
       "      <td>189</td>\n",
       "    </tr>\n",
       "    <tr>\n",
       "      <th>13</th>\n",
       "      <td>Rumana Ahmed</td>\n",
       "      <td>BAN</td>\n",
       "      <td>179</td>\n",
       "    </tr>\n",
       "    <tr>\n",
       "      <th>14</th>\n",
       "      <td>Hayley Matthews</td>\n",
       "      <td>WI</td>\n",
       "      <td>176</td>\n",
       "    </tr>\n",
       "    <tr>\n",
       "      <th>15</th>\n",
       "      <td>Harmanpreet Kaur</td>\n",
       "      <td>IND</td>\n",
       "      <td>167</td>\n",
       "    </tr>\n",
       "    <tr>\n",
       "      <th>16</th>\n",
       "      <td>Chamari Athapaththu</td>\n",
       "      <td>SL</td>\n",
       "      <td>164</td>\n",
       "    </tr>\n",
       "    <tr>\n",
       "      <th>17</th>\n",
       "      <td>Sune Luus</td>\n",
       "      <td>SA</td>\n",
       "      <td>153</td>\n",
       "    </tr>\n",
       "    <tr>\n",
       "      <th>18</th>\n",
       "      <td>Poonam Yadav</td>\n",
       "      <td>IND</td>\n",
       "      <td>151</td>\n",
       "    </tr>\n",
       "  </tbody>\n",
       "</table>\n",
       "</div>"
      ],
      "text/plain": [
       "                   Player Team Rating\n",
       "0           Ellyse Perry   AUS    418\n",
       "1        Stafanie Taylor    WI    410\n",
       "2         Natalie Sciver   ENG    349\n",
       "3          Deepti Sharma   IND    343\n",
       "4          Jess Jonassen   AUS    307\n",
       "5       Ashleigh Gardner   AUS    252\n",
       "6       Dane van Niekerk    SA    243\n",
       "7          Sophie Devine    NZ    242\n",
       "8            Amelia Kerr    NZ    236\n",
       "9        Katherine Brunt   ENG    236\n",
       "10         Shikha Pandey   IND    204\n",
       "11        Jhulan Goswami   IND    200\n",
       "12        Heather Knight   ENG    189\n",
       "13          Rumana Ahmed   BAN    179\n",
       "14       Hayley Matthews    WI    176\n",
       "15      Harmanpreet Kaur   IND    167\n",
       "16   Chamari Athapaththu    SL    164\n",
       "17             Sune Luus    SA    153\n",
       "18          Poonam Yadav   IND    151"
      ]
     },
     "execution_count": 2530,
     "metadata": {},
     "output_type": "execute_result"
    }
   ],
   "source": [
    "Alrounder_=pd.DataFrame({\"Player\":a_player,\"Team\":a_team,\"Rating\":a_rating})\n",
    "Alrounder_\n"
   ]
  },
  {
   "cell_type": "code",
   "execution_count": 2531,
   "metadata": {},
   "outputs": [
    {
     "data": {
      "text/html": [
       "<div>\n",
       "<style scoped>\n",
       "    .dataframe tbody tr th:only-of-type {\n",
       "        vertical-align: middle;\n",
       "    }\n",
       "\n",
       "    .dataframe tbody tr th {\n",
       "        vertical-align: top;\n",
       "    }\n",
       "\n",
       "    .dataframe thead th {\n",
       "        text-align: right;\n",
       "    }\n",
       "</style>\n",
       "<table border=\"1\" class=\"dataframe\">\n",
       "  <thead>\n",
       "    <tr style=\"text-align: right;\">\n",
       "      <th></th>\n",
       "      <th>Player</th>\n",
       "      <th>Team</th>\n",
       "      <th>Rating</th>\n",
       "    </tr>\n",
       "  </thead>\n",
       "  <tbody>\n",
       "    <tr>\n",
       "      <th>0</th>\n",
       "      <td>Ellyse Perry</td>\n",
       "      <td>AUS</td>\n",
       "      <td>418</td>\n",
       "    </tr>\n",
       "    <tr>\n",
       "      <th>1</th>\n",
       "      <td>Stafanie Taylor</td>\n",
       "      <td>WI</td>\n",
       "      <td>410</td>\n",
       "    </tr>\n",
       "    <tr>\n",
       "      <th>2</th>\n",
       "      <td>Natalie Sciver</td>\n",
       "      <td>ENG</td>\n",
       "      <td>349</td>\n",
       "    </tr>\n",
       "    <tr>\n",
       "      <th>3</th>\n",
       "      <td>Deepti Sharma</td>\n",
       "      <td>IND</td>\n",
       "      <td>343</td>\n",
       "    </tr>\n",
       "    <tr>\n",
       "      <th>4</th>\n",
       "      <td>Jess Jonassen</td>\n",
       "      <td>AUS</td>\n",
       "      <td>307</td>\n",
       "    </tr>\n",
       "    <tr>\n",
       "      <th>5</th>\n",
       "      <td>Ashleigh Gardner</td>\n",
       "      <td>AUS</td>\n",
       "      <td>252</td>\n",
       "    </tr>\n",
       "    <tr>\n",
       "      <th>6</th>\n",
       "      <td>Dane van Niekerk</td>\n",
       "      <td>SA</td>\n",
       "      <td>243</td>\n",
       "    </tr>\n",
       "    <tr>\n",
       "      <th>7</th>\n",
       "      <td>Sophie Devine</td>\n",
       "      <td>NZ</td>\n",
       "      <td>242</td>\n",
       "    </tr>\n",
       "    <tr>\n",
       "      <th>8</th>\n",
       "      <td>Amelia Kerr</td>\n",
       "      <td>NZ</td>\n",
       "      <td>236</td>\n",
       "    </tr>\n",
       "  </tbody>\n",
       "</table>\n",
       "</div>"
      ],
      "text/plain": [
       "               Player Team Rating\n",
       "0       Ellyse Perry   AUS    418\n",
       "1    Stafanie Taylor    WI    410\n",
       "2     Natalie Sciver   ENG    349\n",
       "3      Deepti Sharma   IND    343\n",
       "4      Jess Jonassen   AUS    307\n",
       "5   Ashleigh Gardner   AUS    252\n",
       "6   Dane van Niekerk    SA    243\n",
       "7      Sophie Devine    NZ    242\n",
       "8        Amelia Kerr    NZ    236"
      ]
     },
     "execution_count": 2531,
     "metadata": {},
     "output_type": "execute_result"
    }
   ],
   "source": [
    "alrounder_=Alrounder_[:9]\n",
    "alrounder_"
   ]
  },
  {
   "cell_type": "code",
   "execution_count": 2532,
   "metadata": {},
   "outputs": [],
   "source": [
    "a_player_banner=[]\n",
    "a_team_banner=[]\n",
    "a_rating_banner=[]"
   ]
  },
  {
   "cell_type": "code",
   "execution_count": 2533,
   "metadata": {},
   "outputs": [
    {
     "data": {
      "text/plain": [
       "[<div class=\"rankings-block__banner--name-large\">Marizanne Kapp</div>]"
      ]
     },
     "execution_count": 2533,
     "metadata": {},
     "output_type": "execute_result"
    }
   ],
   "source": [
    "a_player_banner_=soup.find_all('div' ,class_=\"rankings-block__banner--name-large\")\n",
    "a_player_banner_"
   ]
  },
  {
   "cell_type": "code",
   "execution_count": 2534,
   "metadata": {},
   "outputs": [
    {
     "data": {
      "text/plain": [
       "['Marizanne Kapp']"
      ]
     },
     "execution_count": 2534,
     "metadata": {},
     "output_type": "execute_result"
    }
   ],
   "source": [
    "for i in a_player_banner_:\n",
    "    a_player_banner.append(i.text.replace(\"\\n\",\" \"))\n",
    "a_player_banner[:1]"
   ]
  },
  {
   "cell_type": "code",
   "execution_count": 2535,
   "metadata": {},
   "outputs": [
    {
     "data": {
      "text/plain": [
       "[<div class=\"rankings-block__banner--nationality\">\n",
       " <div class=\"flag-15 SA\"></div>\n",
       " <span class=\"rankings-block__banner--nation\"></span>SA\n",
       "                     </div>]"
      ]
     },
     "execution_count": 2535,
     "metadata": {},
     "output_type": "execute_result"
    }
   ],
   "source": [
    "a_team_banner_=soup.find_all('div' ,class_=\"rankings-block__banner--nationality\")\n",
    "a_team_banner_"
   ]
  },
  {
   "cell_type": "code",
   "execution_count": 2536,
   "metadata": {},
   "outputs": [
    {
     "data": {
      "text/plain": [
       "['SA']"
      ]
     },
     "execution_count": 2536,
     "metadata": {},
     "output_type": "execute_result"
    }
   ],
   "source": [
    "for i in a_team_banner_:\n",
    "    a_team_banner.append(i.text.strip())\n",
    "a_team_banner"
   ]
  },
  {
   "cell_type": "code",
   "execution_count": 2537,
   "metadata": {},
   "outputs": [
    {
     "data": {
      "text/plain": [
       "[<div class=\"rankings-block__banner--rating\">418</div>]"
      ]
     },
     "execution_count": 2537,
     "metadata": {},
     "output_type": "execute_result"
    }
   ],
   "source": [
    "a_rating_banner_=soup.find_all('div' ,class_=\"rankings-block__banner--rating\")\n",
    "a_rating_banner_"
   ]
  },
  {
   "cell_type": "code",
   "execution_count": 2538,
   "metadata": {},
   "outputs": [
    {
     "data": {
      "text/plain": [
       "['418']"
      ]
     },
     "execution_count": 2538,
     "metadata": {},
     "output_type": "execute_result"
    }
   ],
   "source": [
    "for i in a_rating_banner_:\n",
    "    a_rating_banner.append(i.text.replace(\"\\n\",\" \"))\n",
    "a_rating_banner"
   ]
  },
  {
   "cell_type": "code",
   "execution_count": 2539,
   "metadata": {},
   "outputs": [
    {
     "data": {
      "text/html": [
       "<div>\n",
       "<style scoped>\n",
       "    .dataframe tbody tr th:only-of-type {\n",
       "        vertical-align: middle;\n",
       "    }\n",
       "\n",
       "    .dataframe tbody tr th {\n",
       "        vertical-align: top;\n",
       "    }\n",
       "\n",
       "    .dataframe thead th {\n",
       "        text-align: right;\n",
       "    }\n",
       "</style>\n",
       "<table border=\"1\" class=\"dataframe\">\n",
       "  <thead>\n",
       "    <tr style=\"text-align: right;\">\n",
       "      <th></th>\n",
       "      <th>Player</th>\n",
       "      <th>Team</th>\n",
       "      <th>Rating</th>\n",
       "    </tr>\n",
       "  </thead>\n",
       "  <tbody>\n",
       "    <tr>\n",
       "      <th>0</th>\n",
       "      <td>Marizanne Kapp</td>\n",
       "      <td>SA</td>\n",
       "      <td>418</td>\n",
       "    </tr>\n",
       "  </tbody>\n",
       "</table>\n",
       "</div>"
      ],
      "text/plain": [
       "           Player Team Rating\n",
       "0  Marizanne Kapp   SA    418"
      ]
     },
     "execution_count": 2539,
     "metadata": {},
     "output_type": "execute_result"
    }
   ],
   "source": [
    "a_banner=pd.DataFrame({\"Player\":a_player_banner[:1],\"Team\":a_team_banner,\"Rating\":a_rating_banner})\n",
    "a_banner"
   ]
  },
  {
   "cell_type": "code",
   "execution_count": 2540,
   "metadata": {},
   "outputs": [
    {
     "data": {
      "text/html": [
       "<div>\n",
       "<style scoped>\n",
       "    .dataframe tbody tr th:only-of-type {\n",
       "        vertical-align: middle;\n",
       "    }\n",
       "\n",
       "    .dataframe tbody tr th {\n",
       "        vertical-align: top;\n",
       "    }\n",
       "\n",
       "    .dataframe thead th {\n",
       "        text-align: right;\n",
       "    }\n",
       "</style>\n",
       "<table border=\"1\" class=\"dataframe\">\n",
       "  <thead>\n",
       "    <tr style=\"text-align: right;\">\n",
       "      <th></th>\n",
       "      <th>Player</th>\n",
       "      <th>Team</th>\n",
       "      <th>Rating</th>\n",
       "    </tr>\n",
       "  </thead>\n",
       "  <tbody>\n",
       "    <tr>\n",
       "      <th>0</th>\n",
       "      <td>Marizanne Kapp</td>\n",
       "      <td>SA</td>\n",
       "      <td>418</td>\n",
       "    </tr>\n",
       "    <tr>\n",
       "      <th>1</th>\n",
       "      <td>Ellyse Perry</td>\n",
       "      <td>AUS</td>\n",
       "      <td>418</td>\n",
       "    </tr>\n",
       "    <tr>\n",
       "      <th>2</th>\n",
       "      <td>Stafanie Taylor</td>\n",
       "      <td>WI</td>\n",
       "      <td>410</td>\n",
       "    </tr>\n",
       "    <tr>\n",
       "      <th>3</th>\n",
       "      <td>Natalie Sciver</td>\n",
       "      <td>ENG</td>\n",
       "      <td>349</td>\n",
       "    </tr>\n",
       "    <tr>\n",
       "      <th>4</th>\n",
       "      <td>Deepti Sharma</td>\n",
       "      <td>IND</td>\n",
       "      <td>343</td>\n",
       "    </tr>\n",
       "    <tr>\n",
       "      <th>5</th>\n",
       "      <td>Jess Jonassen</td>\n",
       "      <td>AUS</td>\n",
       "      <td>307</td>\n",
       "    </tr>\n",
       "    <tr>\n",
       "      <th>6</th>\n",
       "      <td>Ashleigh Gardner</td>\n",
       "      <td>AUS</td>\n",
       "      <td>252</td>\n",
       "    </tr>\n",
       "    <tr>\n",
       "      <th>7</th>\n",
       "      <td>Dane van Niekerk</td>\n",
       "      <td>SA</td>\n",
       "      <td>243</td>\n",
       "    </tr>\n",
       "    <tr>\n",
       "      <th>8</th>\n",
       "      <td>Sophie Devine</td>\n",
       "      <td>NZ</td>\n",
       "      <td>242</td>\n",
       "    </tr>\n",
       "    <tr>\n",
       "      <th>9</th>\n",
       "      <td>Amelia Kerr</td>\n",
       "      <td>NZ</td>\n",
       "      <td>236</td>\n",
       "    </tr>\n",
       "  </tbody>\n",
       "</table>\n",
       "</div>"
      ],
      "text/plain": [
       "               Player Team Rating\n",
       "0      Marizanne Kapp   SA    418\n",
       "1       Ellyse Perry   AUS    418\n",
       "2    Stafanie Taylor    WI    410\n",
       "3     Natalie Sciver   ENG    349\n",
       "4      Deepti Sharma   IND    343\n",
       "5      Jess Jonassen   AUS    307\n",
       "6   Ashleigh Gardner   AUS    252\n",
       "7   Dane van Niekerk    SA    243\n",
       "8      Sophie Devine    NZ    242\n",
       "9        Amelia Kerr    NZ    236"
      ]
     },
     "execution_count": 2540,
     "metadata": {},
     "output_type": "execute_result"
    }
   ],
   "source": [
    "alrounder=a_banner.append(alrounder_,ignore_index=True)\n",
    "alrounder"
   ]
  },
  {
   "cell_type": "markdown",
   "metadata": {},
   "source": [
    "7. Write a python program to scrape details of all the mobile phones under Rs. 20,000 listed on Amazon.in. The scraped data should include Product Name, Price, Image URL and Average Rating."
   ]
  },
  {
   "cell_type": "code",
   "execution_count": 2541,
   "metadata": {},
   "outputs": [
    {
     "data": {
      "text/plain": [
       "<Response [503]>"
      ]
     },
     "execution_count": 2541,
     "metadata": {},
     "output_type": "execute_result"
    }
   ],
   "source": [
    "url=requests.get(\"https://www.amazon.in/s?k=mobile&rh=p_36%3A-20000000&qid=1621975129&rnid=1318502031&ref=sr_nr_p_36_5\")\n",
    "url"
   ]
  },
  {
   "cell_type": "code",
   "execution_count": 2542,
   "metadata": {},
   "outputs": [],
   "source": [
    "soup=BeautifulSoup(url.content)\n",
    "#soup"
   ]
  },
  {
   "cell_type": "code",
   "execution_count": 2543,
   "metadata": {},
   "outputs": [],
   "source": [
    "mobile=[]\n",
    "price=[]\n",
    "rating=[]\n",
    "image=[]"
   ]
  },
  {
   "cell_type": "code",
   "execution_count": 2544,
   "metadata": {},
   "outputs": [],
   "source": [
    "mobile_=soup.find_all(\"span\",class_=\"a-size-medium a-color-base a-text-normal\")\n",
    "#mobile_"
   ]
  },
  {
   "cell_type": "code",
   "execution_count": 2545,
   "metadata": {},
   "outputs": [
    {
     "data": {
      "text/plain": [
       "[]"
      ]
     },
     "execution_count": 2545,
     "metadata": {},
     "output_type": "execute_result"
    }
   ],
   "source": [
    "for i in mobile_:\n",
    "    mobile.append(i.text.replace(\"\\n\",\" \"))\n",
    "mobile[:9]"
   ]
  },
  {
   "cell_type": "code",
   "execution_count": 2546,
   "metadata": {},
   "outputs": [],
   "source": [
    "price_=soup.find_all(\"span\", class_=\"a-price-whole\")\n",
    "#price_"
   ]
  },
  {
   "cell_type": "code",
   "execution_count": 2547,
   "metadata": {},
   "outputs": [
    {
     "data": {
      "text/plain": [
       "[]"
      ]
     },
     "execution_count": 2547,
     "metadata": {},
     "output_type": "execute_result"
    }
   ],
   "source": [
    "for i in price_:\n",
    "    price.append(i.text.replace(\"\\n\",\" \"))\n",
    "price[:9]"
   ]
  },
  {
   "cell_type": "code",
   "execution_count": 2548,
   "metadata": {},
   "outputs": [
    {
     "data": {
      "text/plain": [
       "[]"
      ]
     },
     "execution_count": 2548,
     "metadata": {},
     "output_type": "execute_result"
    }
   ],
   "source": [
    "rating_=soup.find_all('span', class_=\"a-icon-alt\")\n",
    "rating_[:9]"
   ]
  },
  {
   "cell_type": "code",
   "execution_count": 2549,
   "metadata": {},
   "outputs": [
    {
     "data": {
      "text/plain": [
       "[]"
      ]
     },
     "execution_count": 2549,
     "metadata": {},
     "output_type": "execute_result"
    }
   ],
   "source": [
    "for i in rating_:\n",
    "    rating.append(i.text.replace(\"\\n\",\" \"))\n",
    "rating[:9]"
   ]
  },
  {
   "cell_type": "code",
   "execution_count": 2550,
   "metadata": {},
   "outputs": [
    {
     "data": {
      "text/plain": [
       "[]"
      ]
     },
     "execution_count": 2550,
     "metadata": {},
     "output_type": "execute_result"
    }
   ],
   "source": [
    "image_=soup.find_all(\"img\",class_=\"s-image\")\n",
    "image_[:1]"
   ]
  },
  {
   "cell_type": "code",
   "execution_count": 2551,
   "metadata": {},
   "outputs": [
    {
     "data": {
      "text/plain": [
       "[]"
      ]
     },
     "execution_count": 2551,
     "metadata": {},
     "output_type": "execute_result"
    }
   ],
   "source": [
    "for i in image_:\n",
    "    image.append(i.get('srcset'))\n",
    "image[:2]"
   ]
  },
  {
   "cell_type": "code",
   "execution_count": 2552,
   "metadata": {},
   "outputs": [],
   "source": [
    "Amazon=pd.DataFrame({\"Mobile\":mobile[:9],\"Price\":price[:9],\"Rating\":rating[:9],\"Image\":image[:9]})"
   ]
  },
  {
   "cell_type": "code",
   "execution_count": 2553,
   "metadata": {},
   "outputs": [
    {
     "data": {
      "text/html": [
       "<div>\n",
       "<style scoped>\n",
       "    .dataframe tbody tr th:only-of-type {\n",
       "        vertical-align: middle;\n",
       "    }\n",
       "\n",
       "    .dataframe tbody tr th {\n",
       "        vertical-align: top;\n",
       "    }\n",
       "\n",
       "    .dataframe thead th {\n",
       "        text-align: right;\n",
       "    }\n",
       "</style>\n",
       "<table border=\"1\" class=\"dataframe\">\n",
       "  <thead>\n",
       "    <tr style=\"text-align: right;\">\n",
       "      <th></th>\n",
       "      <th>Mobile</th>\n",
       "      <th>Price</th>\n",
       "      <th>Rating</th>\n",
       "      <th>Image</th>\n",
       "    </tr>\n",
       "  </thead>\n",
       "  <tbody>\n",
       "  </tbody>\n",
       "</table>\n",
       "</div>"
      ],
      "text/plain": [
       "Empty DataFrame\n",
       "Columns: [Mobile, Price, Rating, Image]\n",
       "Index: []"
      ]
     },
     "execution_count": 2553,
     "metadata": {},
     "output_type": "execute_result"
    }
   ],
   "source": [
    "Amazon"
   ]
  },
  {
   "cell_type": "markdown",
   "metadata": {},
   "source": [
    "8. Write a python program to extract information about the local weather from the National Weather Service website of USA, https://www.weather.gov/ for the city, San Francisco. You need to extract data about 7 day extended forecast display for the city. The data should include period, short description, temperature and description."
   ]
  },
  {
   "cell_type": "code",
   "execution_count": 2554,
   "metadata": {},
   "outputs": [
    {
     "data": {
      "text/plain": [
       "<Response [200]>"
      ]
     },
     "execution_count": 2554,
     "metadata": {},
     "output_type": "execute_result"
    }
   ],
   "source": [
    "url=requests.get(\"https://forecast.weather.gov/MapClick.php?lat=37.777120000000025&lon=-122.41963999999996#.YK1i9agzZPZ\")\n",
    "url"
   ]
  },
  {
   "cell_type": "code",
   "execution_count": 2555,
   "metadata": {},
   "outputs": [],
   "source": [
    "soup=BeautifulSoup(url.content)"
   ]
  },
  {
   "cell_type": "code",
   "execution_count": 2556,
   "metadata": {},
   "outputs": [],
   "source": [
    "day=[]\n",
    "temp=[]\n",
    "desc=[]"
   ]
  },
  {
   "cell_type": "code",
   "execution_count": 2557,
   "metadata": {},
   "outputs": [
    {
     "data": {
      "text/plain": [
       "[<p class=\"period-name\">Today<br/><br/></p>,\n",
       " <p class=\"period-name\">Tonight<br/><br/></p>,\n",
       " <p class=\"period-name\">Sunday<br/><br/></p>,\n",
       " <p class=\"period-name\">Sunday<br/>Night</p>,\n",
       " <p class=\"period-name\">Monday<br/><br/></p>,\n",
       " <p class=\"period-name\">Monday<br/>Night</p>,\n",
       " <p class=\"period-name\">Tuesday<br/><br/></p>,\n",
       " <p class=\"period-name\">Tuesday<br/>Night</p>,\n",
       " <p class=\"period-name\">Wednesday<br/><br/></p>]"
      ]
     },
     "execution_count": 2557,
     "metadata": {},
     "output_type": "execute_result"
    }
   ],
   "source": [
    "day_=soup.find_all('p' ,class_=\"period-name\")\n",
    "day_"
   ]
  },
  {
   "cell_type": "code",
   "execution_count": 2558,
   "metadata": {},
   "outputs": [
    {
     "data": {
      "text/plain": [
       "['Today', 'Sunday', 'Monday', 'Tuesday', 'Wednesday']"
      ]
     },
     "execution_count": 2558,
     "metadata": {},
     "output_type": "execute_result"
    }
   ],
   "source": [
    "for i in range(0,len(day_),2):\n",
    "    day.append(day_[i].text.replace(\"\\n\",\" \"))\n",
    "day"
   ]
  },
  {
   "cell_type": "code",
   "execution_count": 2559,
   "metadata": {},
   "outputs": [
    {
     "data": {
      "text/plain": [
       "[<p class=\"temp temp-high\">High: 60 °F</p>,\n",
       " <p class=\"temp temp-high\">High: 58 °F</p>,\n",
       " <p class=\"temp temp-high\">High: 63 °F</p>,\n",
       " <p class=\"temp temp-high\">High: 63 °F</p>,\n",
       " <p class=\"temp temp-high\">High: 63 °F</p>]"
      ]
     },
     "execution_count": 2559,
     "metadata": {},
     "output_type": "execute_result"
    }
   ],
   "source": [
    "temp_=soup.find_all(\"p\", class_=\"temp temp-high\")\n",
    "temp_"
   ]
  },
  {
   "cell_type": "code",
   "execution_count": 2560,
   "metadata": {},
   "outputs": [
    {
     "data": {
      "text/plain": [
       "['High: 60 °F', 'High: 58 °F', 'High: 63 °F', 'High: 63 °F', 'High: 63 °F']"
      ]
     },
     "execution_count": 2560,
     "metadata": {},
     "output_type": "execute_result"
    }
   ],
   "source": [
    "for i in temp_:\n",
    "    temp.append(i.text.replace(\"\\n\",\" \"))\n",
    "temp"
   ]
  },
  {
   "cell_type": "code",
   "execution_count": 2561,
   "metadata": {},
   "outputs": [
    {
     "data": {
      "text/plain": [
       "[<p class=\"short-desc\">Mostly Sunny</p>,\n",
       " <p class=\"short-desc\">Mostly Clear</p>,\n",
       " <p class=\"short-desc\">Sunny then<br/>Sunny and<br/>Breezy</p>,\n",
       " <p class=\"short-desc\">Mostly Clear<br/>and Breezy<br/>then Mostly<br/>Clear</p>,\n",
       " <p class=\"short-desc\">Sunny and<br/>Breezy</p>,\n",
       " <p class=\"short-desc\">Mostly Clear<br/>and Breezy<br/>then Partly<br/>Cloudy</p>,\n",
       " <p class=\"short-desc\">Sunny</p>,\n",
       " <p class=\"short-desc\">Partly Cloudy</p>,\n",
       " <p class=\"short-desc\">Sunny</p>]"
      ]
     },
     "execution_count": 2561,
     "metadata": {},
     "output_type": "execute_result"
    }
   ],
   "source": [
    "desc_=soup.find_all(\"p\", class_=\"short-desc\")\n",
    "desc_"
   ]
  },
  {
   "cell_type": "code",
   "execution_count": 2562,
   "metadata": {},
   "outputs": [
    {
     "data": {
      "text/plain": [
       "['Mostly Sunny',\n",
       " 'Sunny thenSunny andBreezy',\n",
       " 'Sunny andBreezy',\n",
       " 'Sunny',\n",
       " 'Sunny']"
      ]
     },
     "execution_count": 2562,
     "metadata": {},
     "output_type": "execute_result"
    }
   ],
   "source": [
    "for i in range(0,len(desc_),2):\n",
    "    desc.append(desc_[i].text.replace(\"\\n\",\" \"))\n",
    "desc"
   ]
  },
  {
   "cell_type": "code",
   "execution_count": 2563,
   "metadata": {},
   "outputs": [
    {
     "data": {
      "text/html": [
       "<div>\n",
       "<style scoped>\n",
       "    .dataframe tbody tr th:only-of-type {\n",
       "        vertical-align: middle;\n",
       "    }\n",
       "\n",
       "    .dataframe tbody tr th {\n",
       "        vertical-align: top;\n",
       "    }\n",
       "\n",
       "    .dataframe thead th {\n",
       "        text-align: right;\n",
       "    }\n",
       "</style>\n",
       "<table border=\"1\" class=\"dataframe\">\n",
       "  <thead>\n",
       "    <tr style=\"text-align: right;\">\n",
       "      <th></th>\n",
       "      <th>Day</th>\n",
       "      <th>Temparature</th>\n",
       "      <th>Description</th>\n",
       "    </tr>\n",
       "  </thead>\n",
       "  <tbody>\n",
       "    <tr>\n",
       "      <th>0</th>\n",
       "      <td>Today</td>\n",
       "      <td>High: 60 °F</td>\n",
       "      <td>Mostly Sunny</td>\n",
       "    </tr>\n",
       "    <tr>\n",
       "      <th>1</th>\n",
       "      <td>Sunday</td>\n",
       "      <td>High: 58 °F</td>\n",
       "      <td>Sunny thenSunny andBreezy</td>\n",
       "    </tr>\n",
       "    <tr>\n",
       "      <th>2</th>\n",
       "      <td>Monday</td>\n",
       "      <td>High: 63 °F</td>\n",
       "      <td>Sunny andBreezy</td>\n",
       "    </tr>\n",
       "    <tr>\n",
       "      <th>3</th>\n",
       "      <td>Tuesday</td>\n",
       "      <td>High: 63 °F</td>\n",
       "      <td>Sunny</td>\n",
       "    </tr>\n",
       "    <tr>\n",
       "      <th>4</th>\n",
       "      <td>Wednesday</td>\n",
       "      <td>High: 63 °F</td>\n",
       "      <td>Sunny</td>\n",
       "    </tr>\n",
       "  </tbody>\n",
       "</table>\n",
       "</div>"
      ],
      "text/plain": [
       "         Day  Temparature                Description\n",
       "0      Today  High: 60 °F               Mostly Sunny\n",
       "1     Sunday  High: 58 °F  Sunny thenSunny andBreezy\n",
       "2     Monday  High: 63 °F            Sunny andBreezy\n",
       "3    Tuesday  High: 63 °F                      Sunny\n",
       "4  Wednesday  High: 63 °F                      Sunny"
      ]
     },
     "execution_count": 2563,
     "metadata": {},
     "output_type": "execute_result"
    }
   ],
   "source": [
    "climate=pd.DataFrame({\"Day\":day,\"Temparature\":temp,\"Description\":desc})\n",
    "climate"
   ]
  },
  {
   "cell_type": "code",
   "execution_count": null,
   "metadata": {},
   "outputs": [],
   "source": []
  },
  {
   "cell_type": "markdown",
   "metadata": {},
   "source": [
    "9. Write a python program to scrape fresher job listings from ‘https://internshala.com/’. It should include job title, company name, CTC, and apply date."
   ]
  },
  {
   "cell_type": "code",
   "execution_count": 2564,
   "metadata": {},
   "outputs": [
    {
     "data": {
      "text/plain": [
       "<Response [200]>"
      ]
     },
     "execution_count": 2564,
     "metadata": {},
     "output_type": "execute_result"
    }
   ],
   "source": [
    "url=requests.get(\"https://internshala.com/fresher-jobs\")\n",
    "url"
   ]
  },
  {
   "cell_type": "code",
   "execution_count": 2565,
   "metadata": {},
   "outputs": [],
   "source": [
    "soup=BeautifulSoup(url.content)\n"
   ]
  },
  {
   "cell_type": "code",
   "execution_count": 2566,
   "metadata": {},
   "outputs": [],
   "source": [
    "title = []\n",
    "company = []\n",
    "ctc = []\n",
    "apply_date = []"
   ]
  },
  {
   "cell_type": "code",
   "execution_count": 2567,
   "metadata": {},
   "outputs": [],
   "source": [
    "title_=soup.find_all('div' ,class_=\"heading_4_5 profile\")\n"
   ]
  },
  {
   "cell_type": "code",
   "execution_count": 2568,
   "metadata": {},
   "outputs": [
    {
     "data": {
      "text/plain": [
       "[' PHP & LARAVEL DEVELOPER ',\n",
       " ' Backend Developer (Ruby On Rails) ',\n",
       " ' Customer Service Specialist ',\n",
       " ' Graphic Designer ',\n",
       " ' Digital Marketing Specialist ',\n",
       " ' Junior Corporate Sales Executive ',\n",
       " ' Backend Developer ',\n",
       " ' Junior Operations Executive ',\n",
       " ' Internal Audit Associate ',\n",
       " ' Business Marketing Manager ']"
      ]
     },
     "execution_count": 2568,
     "metadata": {},
     "output_type": "execute_result"
    }
   ],
   "source": [
    "for i in title_:\n",
    "    title.append(i.text.replace(\"\\n\",\" \"))\n",
    "title[:10]"
   ]
  },
  {
   "cell_type": "code",
   "execution_count": 2569,
   "metadata": {},
   "outputs": [
    {
     "data": {
      "text/plain": [
       "[<a class=\"link_display_like_text\" href=\"/fresher-jobs/fresher-job-at-Nyx%20Wolves\">\n",
       "                         Nyx Wolves                    </a>,\n",
       " <a class=\"link_display_like_text\" href=\"/fresher-jobs/fresher-job-at-Wollfish%20Labs%20Private%20Limited\">\n",
       "                         Wollfish Labs Private Limited                    </a>,\n",
       " <a class=\"link_display_like_text\" href=\"/fresher-jobs/fresher-job-at-Wono%20Inc\">\n",
       "                         Wono Inc                    </a>,\n",
       " <a class=\"link_display_like_text\" href=\"/fresher-jobs/fresher-job-at-Wono%20Inc\">\n",
       "                         Wono Inc                    </a>,\n",
       " <a class=\"link_display_like_text\" href=\"/fresher-jobs/fresher-job-at-Wono%20Inc\">\n",
       "                         Wono Inc                    </a>,\n",
       " <a class=\"link_display_like_text\" href=\"/fresher-jobs/fresher-job-at-Wyntem\">\n",
       "                         Wyntem                    </a>,\n",
       " <a class=\"link_display_like_text\" href=\"/fresher-jobs/fresher-job-at-HomeJam\">\n",
       "                         HomeJam                    </a>,\n",
       " <a class=\"link_display_like_text\" href=\"/fresher-jobs/fresher-job-at-NCTI%20LLP\">\n",
       "                         NCTI LLP                    </a>,\n",
       " <a class=\"link_display_like_text\" href=\"/fresher-jobs/fresher-job-at-Global%20Group\">\n",
       "                         Global Group                    </a>,\n",
       " <a class=\"link_display_like_text\" href=\"/fresher-jobs/fresher-job-at-MentorBoxx\">\n",
       "                         MentorBoxx                    </a>]"
      ]
     },
     "execution_count": 2569,
     "metadata": {},
     "output_type": "execute_result"
    }
   ],
   "source": [
    "company_=soup.find_all(\"a\", class_=\"link_display_like_text\")\n",
    "company_[:10]"
   ]
  },
  {
   "cell_type": "code",
   "execution_count": 2570,
   "metadata": {},
   "outputs": [
    {
     "data": {
      "text/plain": [
       "['                         Nyx Wolves                    ',\n",
       " '                         Wollfish Labs Private Limited                    ',\n",
       " '                         Wono Inc                    ',\n",
       " '                         Wono Inc                    ',\n",
       " '                         Wono Inc                    ',\n",
       " '                         Wyntem                    ',\n",
       " '                         HomeJam                    ',\n",
       " '                         NCTI LLP                    ',\n",
       " '                         Global Group                    ',\n",
       " '                         MentorBoxx                    ']"
      ]
     },
     "execution_count": 2570,
     "metadata": {},
     "output_type": "execute_result"
    }
   ],
   "source": [
    "for i in company_:\n",
    "    company.append(i.text.replace(\"\\n\",\" \"))\n",
    "company[:10]"
   ]
  },
  {
   "cell_type": "code",
   "execution_count": 2571,
   "metadata": {},
   "outputs": [
    {
     "data": {
      "text/plain": [
       "[<div class=\"item_body\">\n",
       " <i class=\"ic-16-currency-inr\"></i>  3 - 3.05 LPA                                                    </div>,\n",
       " <div class=\"item_body\">4 Jul' 21</div>,\n",
       " <div class=\"item_body\">\n",
       " <i class=\"ic-16-currency-inr\"></i>  6 - 8 LPA                                                    </div>,\n",
       " <div class=\"item_body\">4 Jul' 21</div>,\n",
       " <div class=\"item_body\">\n",
       " <i class=\"ic-16-currency-inr\"></i>  5.2 - 6.4 LPA                                                    </div>,\n",
       " <div class=\"item_body\">3 Jul' 21</div>,\n",
       " <div class=\"item_body\">\n",
       " <i class=\"ic-16-currency-inr\"></i>  5 - 6.5 LPA                                                    </div>,\n",
       " <div class=\"item_body\">3 Jul' 21</div>,\n",
       " <div class=\"item_body\">\n",
       " <i class=\"ic-16-currency-inr\"></i>  5 - 6.5 LPA                                                    </div>,\n",
       " <div class=\"item_body\">3 Jul' 21</div>]"
      ]
     },
     "execution_count": 2571,
     "metadata": {},
     "output_type": "execute_result"
    }
   ],
   "source": [
    "ctc_=soup.find_all('div' ,class_=\"item_body\",id=False)\n",
    "ctc_[:10]"
   ]
  },
  {
   "cell_type": "code",
   "execution_count": 2572,
   "metadata": {},
   "outputs": [
    {
     "data": {
      "text/plain": [
       "['   3 - 3.05 LPA                                                    ',\n",
       " \"4 Jul' 21\",\n",
       " '   6 - 8 LPA                                                    ',\n",
       " \"4 Jul' 21\",\n",
       " '   5.2 - 6.4 LPA                                                    ',\n",
       " \"3 Jul' 21\",\n",
       " '   5 - 6.5 LPA                                                    ',\n",
       " \"3 Jul' 21\",\n",
       " '   5 - 6.5 LPA                                                    ',\n",
       " \"3 Jul' 21\",\n",
       " '   3 - 3.5 LPA                                                    ',\n",
       " \"3 Jul' 21\",\n",
       " '   7 - 8.5 LPA                                                    ',\n",
       " \"3 Jul' 21\",\n",
       " '   3 - 3.6 LPA                                                    ',\n",
       " \"3 Jul' 21\",\n",
       " '   4.8 - 6 LPA                                                    ',\n",
       " \"3 Jul' 21\",\n",
       " '   4 - 8.5 LPA                                                    ',\n",
       " \"3 Jul' 21\"]"
      ]
     },
     "execution_count": 2572,
     "metadata": {},
     "output_type": "execute_result"
    }
   ],
   "source": [
    "\n",
    "for i in ctc_:\n",
    "    ctc.append(i.text.replace(\"\\n\",\" \").replace(\"Starts\\xa0Immediately \",\"  \"))\n",
    "ctc[:20]"
   ]
  },
  {
   "cell_type": "code",
   "execution_count": 2573,
   "metadata": {},
   "outputs": [
    {
     "data": {
      "text/plain": [
       "['3 - 3.05 LPA',\n",
       " '6 - 8 LPA',\n",
       " '5.2 - 6.4 LPA',\n",
       " '5 - 6.5 LPA',\n",
       " '5 - 6.5 LPA',\n",
       " '3 - 3.5 LPA',\n",
       " '7 - 8.5 LPA',\n",
       " '3 - 3.6 LPA',\n",
       " '4.8 - 6 LPA',\n",
       " '4 - 8.5 LPA']"
      ]
     },
     "execution_count": 2573,
     "metadata": {},
     "output_type": "execute_result"
    }
   ],
   "source": [
    "ctc1=[]\n",
    "for i in range(0,len(ctc),2):\n",
    "    ctc1.append(ctc[i].strip())\n",
    "ctc1[:10]"
   ]
  },
  {
   "cell_type": "code",
   "execution_count": 2574,
   "metadata": {},
   "outputs": [
    {
     "data": {
      "text/plain": [
       "[\"4 Jul' 21\",\n",
       " \"4 Jul' 21\",\n",
       " \"3 Jul' 21\",\n",
       " \"3 Jul' 21\",\n",
       " \"3 Jul' 21\",\n",
       " \"3 Jul' 21\",\n",
       " \"3 Jul' 21\",\n",
       " \"3 Jul' 21\",\n",
       " \"3 Jul' 21\",\n",
       " \"3 Jul' 21\"]"
      ]
     },
     "execution_count": 2574,
     "metadata": {},
     "output_type": "execute_result"
    }
   ],
   "source": [
    "for i in range(1,len(ctc),2):\n",
    "    apply_date.append(ctc[i].strip())\n",
    "apply_date[:10]"
   ]
  },
  {
   "cell_type": "code",
   "execution_count": 2575,
   "metadata": {},
   "outputs": [
    {
     "data": {
      "text/html": [
       "<div>\n",
       "<style scoped>\n",
       "    .dataframe tbody tr th:only-of-type {\n",
       "        vertical-align: middle;\n",
       "    }\n",
       "\n",
       "    .dataframe tbody tr th {\n",
       "        vertical-align: top;\n",
       "    }\n",
       "\n",
       "    .dataframe thead th {\n",
       "        text-align: right;\n",
       "    }\n",
       "</style>\n",
       "<table border=\"1\" class=\"dataframe\">\n",
       "  <thead>\n",
       "    <tr style=\"text-align: right;\">\n",
       "      <th></th>\n",
       "      <th>Title</th>\n",
       "      <th>Company</th>\n",
       "      <th>CTC</th>\n",
       "      <th>Apply Date</th>\n",
       "    </tr>\n",
       "  </thead>\n",
       "  <tbody>\n",
       "    <tr>\n",
       "      <th>0</th>\n",
       "      <td>PHP &amp; LARAVEL DEVELOPER</td>\n",
       "      <td>Nyx Wolves           ...</td>\n",
       "      <td>3 - 3.05 LPA</td>\n",
       "      <td>4 Jul' 21</td>\n",
       "    </tr>\n",
       "    <tr>\n",
       "      <th>1</th>\n",
       "      <td>Backend Developer (Ruby On Rails)</td>\n",
       "      <td>Wollfish Labs Private...</td>\n",
       "      <td>6 - 8 LPA</td>\n",
       "      <td>4 Jul' 21</td>\n",
       "    </tr>\n",
       "    <tr>\n",
       "      <th>2</th>\n",
       "      <td>Customer Service Specialist</td>\n",
       "      <td>Wono Inc             ...</td>\n",
       "      <td>5.2 - 6.4 LPA</td>\n",
       "      <td>3 Jul' 21</td>\n",
       "    </tr>\n",
       "    <tr>\n",
       "      <th>3</th>\n",
       "      <td>Graphic Designer</td>\n",
       "      <td>Wono Inc             ...</td>\n",
       "      <td>5 - 6.5 LPA</td>\n",
       "      <td>3 Jul' 21</td>\n",
       "    </tr>\n",
       "    <tr>\n",
       "      <th>4</th>\n",
       "      <td>Digital Marketing Specialist</td>\n",
       "      <td>Wono Inc             ...</td>\n",
       "      <td>5 - 6.5 LPA</td>\n",
       "      <td>3 Jul' 21</td>\n",
       "    </tr>\n",
       "    <tr>\n",
       "      <th>5</th>\n",
       "      <td>Junior Corporate Sales Executive</td>\n",
       "      <td>Wyntem               ...</td>\n",
       "      <td>3 - 3.5 LPA</td>\n",
       "      <td>3 Jul' 21</td>\n",
       "    </tr>\n",
       "    <tr>\n",
       "      <th>6</th>\n",
       "      <td>Backend Developer</td>\n",
       "      <td>HomeJam              ...</td>\n",
       "      <td>7 - 8.5 LPA</td>\n",
       "      <td>3 Jul' 21</td>\n",
       "    </tr>\n",
       "    <tr>\n",
       "      <th>7</th>\n",
       "      <td>Junior Operations Executive</td>\n",
       "      <td>NCTI LLP             ...</td>\n",
       "      <td>3 - 3.6 LPA</td>\n",
       "      <td>3 Jul' 21</td>\n",
       "    </tr>\n",
       "    <tr>\n",
       "      <th>8</th>\n",
       "      <td>Internal Audit Associate</td>\n",
       "      <td>Global Group         ...</td>\n",
       "      <td>4.8 - 6 LPA</td>\n",
       "      <td>3 Jul' 21</td>\n",
       "    </tr>\n",
       "    <tr>\n",
       "      <th>9</th>\n",
       "      <td>Business Marketing Manager</td>\n",
       "      <td>MentorBoxx           ...</td>\n",
       "      <td>4 - 8.5 LPA</td>\n",
       "      <td>3 Jul' 21</td>\n",
       "    </tr>\n",
       "  </tbody>\n",
       "</table>\n",
       "</div>"
      ],
      "text/plain": [
       "                                 Title  \\\n",
       "0             PHP & LARAVEL DEVELOPER    \n",
       "1   Backend Developer (Ruby On Rails)    \n",
       "2         Customer Service Specialist    \n",
       "3                    Graphic Designer    \n",
       "4        Digital Marketing Specialist    \n",
       "5    Junior Corporate Sales Executive    \n",
       "6                   Backend Developer    \n",
       "7         Junior Operations Executive    \n",
       "8            Internal Audit Associate    \n",
       "9          Business Marketing Manager    \n",
       "\n",
       "                                             Company            CTC Apply Date  \n",
       "0                           Nyx Wolves           ...   3 - 3.05 LPA  4 Jul' 21  \n",
       "1                           Wollfish Labs Private...      6 - 8 LPA  4 Jul' 21  \n",
       "2                           Wono Inc             ...  5.2 - 6.4 LPA  3 Jul' 21  \n",
       "3                           Wono Inc             ...    5 - 6.5 LPA  3 Jul' 21  \n",
       "4                           Wono Inc             ...    5 - 6.5 LPA  3 Jul' 21  \n",
       "5                           Wyntem               ...    3 - 3.5 LPA  3 Jul' 21  \n",
       "6                           HomeJam              ...    7 - 8.5 LPA  3 Jul' 21  \n",
       "7                           NCTI LLP             ...    3 - 3.6 LPA  3 Jul' 21  \n",
       "8                           Global Group         ...    4.8 - 6 LPA  3 Jul' 21  \n",
       "9                           MentorBoxx           ...    4 - 8.5 LPA  3 Jul' 21  "
      ]
     },
     "execution_count": 2575,
     "metadata": {},
     "output_type": "execute_result"
    }
   ],
   "source": [
    "db=pd.DataFrame({\"Title\":title[:10],\"Company\":company[:10],\"CTC\":ctc1[:10],\"Apply Date\":apply_date[:10]})\n",
    "db"
   ]
  },
  {
   "cell_type": "code",
   "execution_count": null,
   "metadata": {},
   "outputs": [],
   "source": []
  },
  {
   "cell_type": "code",
   "execution_count": null,
   "metadata": {},
   "outputs": [],
   "source": []
  }
 ],
 "metadata": {
  "kernelspec": {
   "display_name": "Python 3",
   "language": "python",
   "name": "python3"
  },
  "language_info": {
   "codemirror_mode": {
    "name": "ipython",
    "version": 3
   },
   "file_extension": ".py",
   "mimetype": "text/x-python",
   "name": "python",
   "nbconvert_exporter": "python",
   "pygments_lexer": "ipython3",
   "version": "3.8.5"
  }
 },
 "nbformat": 4,
 "nbformat_minor": 4
}
